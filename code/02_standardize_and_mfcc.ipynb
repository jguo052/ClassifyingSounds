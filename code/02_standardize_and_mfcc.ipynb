{
 "cells": [
  {
   "cell_type": "code",
   "execution_count": 1,
   "id": "8ae62ad4-1461-4c08-ab24-4afebba016a8",
   "metadata": {},
   "outputs": [],
   "source": [
    "import numpy as np\n",
    "import pandas as pd\n",
    "import matplotlib.pyplot as plt\n",
    "import seaborn as sns\n",
    "\n",
    "import librosa\n",
    "\n",
    "from sklearn.model_selection import train_test_split"
   ]
  },
  {
   "cell_type": "code",
   "execution_count": 8,
   "id": "3ac3e623-b5af-45a0-9fb4-92f266ab1ba7",
   "metadata": {},
   "outputs": [],
   "source": [
    "def standardize_signal(signal, mean, std):\n",
    "    std_sig = (signal - mean)/std\n",
    "    \n",
    "    return std_sig"
   ]
  },
  {
   "cell_type": "markdown",
   "id": "4fd81790-1090-4dca-bb8c-a8e61b0245e4",
   "metadata": {},
   "source": [
    "#### Train-Val-Test Split"
   ]
  },
  {
   "cell_type": "code",
   "execution_count": 9,
   "id": "0b97b831-bf2a-4d2b-a068-db26cecccdd5",
   "metadata": {},
   "outputs": [],
   "source": [
    "padded_signals = pd.read_csv('../datafiles/padded_signals.csv')"
   ]
  },
  {
   "cell_type": "code",
   "execution_count": 10,
   "id": "c60b313e-7364-452d-9c1a-be05cc2cc471",
   "metadata": {},
   "outputs": [
    {
     "data": {
      "text/html": [
       "<div>\n",
       "<style scoped>\n",
       "    .dataframe tbody tr th:only-of-type {\n",
       "        vertical-align: middle;\n",
       "    }\n",
       "\n",
       "    .dataframe tbody tr th {\n",
       "        vertical-align: top;\n",
       "    }\n",
       "\n",
       "    .dataframe thead th {\n",
       "        text-align: right;\n",
       "    }\n",
       "</style>\n",
       "<table border=\"1\" class=\"dataframe\">\n",
       "  <thead>\n",
       "    <tr style=\"text-align: right;\">\n",
       "      <th></th>\n",
       "      <th>file_name</th>\n",
       "      <th>id</th>\n",
       "      <th>sex</th>\n",
       "      <th>age</th>\n",
       "      <th>language</th>\n",
       "      <th>padded_signal</th>\n",
       "      <th>length</th>\n",
       "      <th>duration</th>\n",
       "      <th>sound</th>\n",
       "    </tr>\n",
       "  </thead>\n",
       "  <tbody>\n",
       "    <tr>\n",
       "      <th>0</th>\n",
       "      <td>f0003_0_cough.wav</td>\n",
       "      <td>f0003</td>\n",
       "      <td>female</td>\n",
       "      <td>56</td>\n",
       "      <td>EN</td>\n",
       "      <td>[0.00133497 0.00165217 0.00136118 ... 0.      ...</td>\n",
       "      <td>92160</td>\n",
       "      <td>4.179592</td>\n",
       "      <td>0</td>\n",
       "    </tr>\n",
       "    <tr>\n",
       "      <th>1</th>\n",
       "      <td>f0003_0_laughter.wav</td>\n",
       "      <td>f0003</td>\n",
       "      <td>female</td>\n",
       "      <td>56</td>\n",
       "      <td>EN</td>\n",
       "      <td>[-0.00116311  0.00087233  0.00418022 ...  0.  ...</td>\n",
       "      <td>100352</td>\n",
       "      <td>4.551111</td>\n",
       "      <td>1</td>\n",
       "    </tr>\n",
       "    <tr>\n",
       "      <th>2</th>\n",
       "      <td>f0003_0_sigh.wav</td>\n",
       "      <td>f0003</td>\n",
       "      <td>female</td>\n",
       "      <td>56</td>\n",
       "      <td>EN</td>\n",
       "      <td>[0.00087326 0.00064998 0.00212913 ... 0.      ...</td>\n",
       "      <td>77824</td>\n",
       "      <td>3.529433</td>\n",
       "      <td>2</td>\n",
       "    </tr>\n",
       "    <tr>\n",
       "      <th>3</th>\n",
       "      <td>f0003_0_sneeze.wav</td>\n",
       "      <td>f0003</td>\n",
       "      <td>female</td>\n",
       "      <td>56</td>\n",
       "      <td>EN</td>\n",
       "      <td>[-7.8514597e-05  4.0562213e-03 -4.0024896e-03 ...</td>\n",
       "      <td>75776</td>\n",
       "      <td>3.436553</td>\n",
       "      <td>3</td>\n",
       "    </tr>\n",
       "    <tr>\n",
       "      <th>4</th>\n",
       "      <td>f0003_0_sniff.wav</td>\n",
       "      <td>f0003</td>\n",
       "      <td>female</td>\n",
       "      <td>56</td>\n",
       "      <td>EN</td>\n",
       "      <td>[-0.00126018 -0.00199772 -0.00169072 ...  0.  ...</td>\n",
       "      <td>75776</td>\n",
       "      <td>3.436553</td>\n",
       "      <td>4</td>\n",
       "    </tr>\n",
       "    <tr>\n",
       "      <th>...</th>\n",
       "      <td>...</td>\n",
       "      <td>...</td>\n",
       "      <td>...</td>\n",
       "      <td>...</td>\n",
       "      <td>...</td>\n",
       "      <td>...</td>\n",
       "      <td>...</td>\n",
       "      <td>...</td>\n",
       "      <td>...</td>\n",
       "    </tr>\n",
       "    <tr>\n",
       "      <th>20980</th>\n",
       "      <td>o3362_0_laughter.wav</td>\n",
       "      <td>o3362</td>\n",
       "      <td>other</td>\n",
       "      <td>30</td>\n",
       "      <td>EN</td>\n",
       "      <td>[0.00085677 0.00524433 0.003041   ... 0.      ...</td>\n",
       "      <td>86554</td>\n",
       "      <td>3.925351</td>\n",
       "      <td>1</td>\n",
       "    </tr>\n",
       "    <tr>\n",
       "      <th>20981</th>\n",
       "      <td>o3362_0_sigh.wav</td>\n",
       "      <td>o3362</td>\n",
       "      <td>other</td>\n",
       "      <td>30</td>\n",
       "      <td>EN</td>\n",
       "      <td>[-4.2895397e-05 -6.7242174e-05 -5.6428587e-05 ...</td>\n",
       "      <td>82791</td>\n",
       "      <td>3.754694</td>\n",
       "      <td>2</td>\n",
       "    </tr>\n",
       "    <tr>\n",
       "      <th>20982</th>\n",
       "      <td>o3362_0_sneeze.wav</td>\n",
       "      <td>o3362</td>\n",
       "      <td>other</td>\n",
       "      <td>30</td>\n",
       "      <td>EN</td>\n",
       "      <td>[0.03538195 0.06839081 0.10988913 ... 0.      ...</td>\n",
       "      <td>69620</td>\n",
       "      <td>3.157370</td>\n",
       "      <td>3</td>\n",
       "    </tr>\n",
       "    <tr>\n",
       "      <th>20983</th>\n",
       "      <td>o3362_0_sniff.wav</td>\n",
       "      <td>o3362</td>\n",
       "      <td>other</td>\n",
       "      <td>30</td>\n",
       "      <td>EN</td>\n",
       "      <td>[ 0.00071836 -0.00543622 -0.0068083  ...  0.  ...</td>\n",
       "      <td>41396</td>\n",
       "      <td>1.877370</td>\n",
       "      <td>4</td>\n",
       "    </tr>\n",
       "    <tr>\n",
       "      <th>20984</th>\n",
       "      <td>o3362_0_throatclearing.wav</td>\n",
       "      <td>o3362</td>\n",
       "      <td>other</td>\n",
       "      <td>30</td>\n",
       "      <td>EN</td>\n",
       "      <td>[0.00295858 0.00867058 0.01311301 ... 0.      ...</td>\n",
       "      <td>50804</td>\n",
       "      <td>2.304036</td>\n",
       "      <td>5</td>\n",
       "    </tr>\n",
       "  </tbody>\n",
       "</table>\n",
       "<p>20985 rows × 9 columns</p>\n",
       "</div>"
      ],
      "text/plain": [
       "                        file_name     id      sex  age language  \\\n",
       "0               f0003_0_cough.wav  f0003   female   56       EN   \n",
       "1            f0003_0_laughter.wav  f0003   female   56       EN   \n",
       "2                f0003_0_sigh.wav  f0003   female   56       EN   \n",
       "3              f0003_0_sneeze.wav  f0003   female   56       EN   \n",
       "4               f0003_0_sniff.wav  f0003   female   56       EN   \n",
       "...                           ...    ...      ...  ...      ...   \n",
       "20980        o3362_0_laughter.wav  o3362    other   30       EN   \n",
       "20981            o3362_0_sigh.wav  o3362    other   30       EN   \n",
       "20982          o3362_0_sneeze.wav  o3362    other   30       EN   \n",
       "20983           o3362_0_sniff.wav  o3362    other   30       EN   \n",
       "20984  o3362_0_throatclearing.wav  o3362    other   30       EN   \n",
       "\n",
       "                                           padded_signal  length  duration  \\\n",
       "0      [0.00133497 0.00165217 0.00136118 ... 0.      ...   92160  4.179592   \n",
       "1      [-0.00116311  0.00087233  0.00418022 ...  0.  ...  100352  4.551111   \n",
       "2      [0.00087326 0.00064998 0.00212913 ... 0.      ...   77824  3.529433   \n",
       "3      [-7.8514597e-05  4.0562213e-03 -4.0024896e-03 ...   75776  3.436553   \n",
       "4      [-0.00126018 -0.00199772 -0.00169072 ...  0.  ...   75776  3.436553   \n",
       "...                                                  ...     ...       ...   \n",
       "20980  [0.00085677 0.00524433 0.003041   ... 0.      ...   86554  3.925351   \n",
       "20981  [-4.2895397e-05 -6.7242174e-05 -5.6428587e-05 ...   82791  3.754694   \n",
       "20982  [0.03538195 0.06839081 0.10988913 ... 0.      ...   69620  3.157370   \n",
       "20983  [ 0.00071836 -0.00543622 -0.0068083  ...  0.  ...   41396  1.877370   \n",
       "20984  [0.00295858 0.00867058 0.01311301 ... 0.      ...   50804  2.304036   \n",
       "\n",
       "       sound  \n",
       "0          0  \n",
       "1          1  \n",
       "2          2  \n",
       "3          3  \n",
       "4          4  \n",
       "...      ...  \n",
       "20980      1  \n",
       "20981      2  \n",
       "20982      3  \n",
       "20983      4  \n",
       "20984      5  \n",
       "\n",
       "[20985 rows x 9 columns]"
      ]
     },
     "execution_count": 10,
     "metadata": {},
     "output_type": "execute_result"
    }
   ],
   "source": [
    "padded_signals"
   ]
  },
  {
   "cell_type": "code",
   "execution_count": 11,
   "id": "ef16b9cc-b5c7-4ecd-b33e-9640491f99e7",
   "metadata": {},
   "outputs": [],
   "source": [
    "X = padded_signals.drop(columns = 'sound')\n",
    "y = padded_signals['sound']"
   ]
  },
  {
   "cell_type": "code",
   "execution_count": 12,
   "id": "20927f9c-c5c6-4cc9-96a4-3272dc1e94cf",
   "metadata": {},
   "outputs": [],
   "source": [
    "X_train_val, X_test, y_train_val, y_test = train_test_split(X, y, stratify = y, test_size = 0.15)"
   ]
  },
  {
   "cell_type": "code",
   "execution_count": 14,
   "id": "29f768aa-73da-4eb8-b0be-ea11c7b5b8b1",
   "metadata": {},
   "outputs": [],
   "source": [
    "X_train, X_val, y_train, y_val = train_test_split(X_train_val, y_train_val, stratify = y_train_val, test_size = 0.15)"
   ]
  },
  {
   "cell_type": "code",
   "execution_count": 15,
   "id": "56ce3fac-d91b-4ac6-920c-6d2d5484a81d",
   "metadata": {},
   "outputs": [
    {
     "data": {
      "text/plain": [
       "(15161, 8)"
      ]
     },
     "execution_count": 15,
     "metadata": {},
     "output_type": "execute_result"
    }
   ],
   "source": [
    "X_train.shape"
   ]
  },
  {
   "cell_type": "code",
   "execution_count": 16,
   "id": "aff90766-a46a-4e02-bfbb-00a9e5dd5157",
   "metadata": {},
   "outputs": [
    {
     "data": {
      "text/plain": [
       "(3148, 8)"
      ]
     },
     "execution_count": 16,
     "metadata": {},
     "output_type": "execute_result"
    }
   ],
   "source": [
    "X_test.shape"
   ]
  },
  {
   "cell_type": "code",
   "execution_count": 17,
   "id": "f4b64b00-629b-4e8e-9015-cb9cdb4ee9f6",
   "metadata": {},
   "outputs": [
    {
     "data": {
      "text/plain": [
       "(2676, 8)"
      ]
     },
     "execution_count": 17,
     "metadata": {},
     "output_type": "execute_result"
    }
   ],
   "source": [
    "X_val.shape"
   ]
  },
  {
   "cell_type": "code",
   "execution_count": 18,
   "id": "76c8c826-2b4c-407e-80c8-d1d703fbe422",
   "metadata": {},
   "outputs": [
    {
     "data": {
      "text/html": [
       "<div>\n",
       "<style scoped>\n",
       "    .dataframe tbody tr th:only-of-type {\n",
       "        vertical-align: middle;\n",
       "    }\n",
       "\n",
       "    .dataframe tbody tr th {\n",
       "        vertical-align: top;\n",
       "    }\n",
       "\n",
       "    .dataframe thead th {\n",
       "        text-align: right;\n",
       "    }\n",
       "</style>\n",
       "<table border=\"1\" class=\"dataframe\">\n",
       "  <thead>\n",
       "    <tr style=\"text-align: right;\">\n",
       "      <th></th>\n",
       "      <th>file_name</th>\n",
       "      <th>id</th>\n",
       "      <th>sex</th>\n",
       "      <th>age</th>\n",
       "      <th>language</th>\n",
       "      <th>padded_signal</th>\n",
       "      <th>length</th>\n",
       "      <th>duration</th>\n",
       "    </tr>\n",
       "  </thead>\n",
       "  <tbody>\n",
       "    <tr>\n",
       "      <th>1010</th>\n",
       "      <td>f0415_0_sniff.wav</td>\n",
       "      <td>f0415</td>\n",
       "      <td>female</td>\n",
       "      <td>23</td>\n",
       "      <td>PT</td>\n",
       "      <td>[ 4.38310963e-05  1.17565665e-04 -1.97715286e-...</td>\n",
       "      <td>67738</td>\n",
       "      <td>3.072018</td>\n",
       "    </tr>\n",
       "    <tr>\n",
       "      <th>20191</th>\n",
       "      <td>m3148_0_sniff.wav</td>\n",
       "      <td>m3148</td>\n",
       "      <td>male</td>\n",
       "      <td>21</td>\n",
       "      <td>IT</td>\n",
       "      <td>[-3.6970399e-05 -1.5823192e-05  1.9504099e-05 ...</td>\n",
       "      <td>48922</td>\n",
       "      <td>2.218685</td>\n",
       "    </tr>\n",
       "    <tr>\n",
       "      <th>2475</th>\n",
       "      <td>f0899_0_sigh.wav</td>\n",
       "      <td>f0899</td>\n",
       "      <td>female</td>\n",
       "      <td>53</td>\n",
       "      <td>EN</td>\n",
       "      <td>[0.00032897 0.0003694  0.00030773 ... 0.      ...</td>\n",
       "      <td>73383</td>\n",
       "      <td>3.328027</td>\n",
       "    </tr>\n",
       "    <tr>\n",
       "      <th>6582</th>\n",
       "      <td>f2290_0_throatclearing.wav</td>\n",
       "      <td>f2290</td>\n",
       "      <td>female</td>\n",
       "      <td>32</td>\n",
       "      <td>EN</td>\n",
       "      <td>[-3.4898369e-07 -8.1891606e-08  9.5978805e-07 ...</td>\n",
       "      <td>62093</td>\n",
       "      <td>2.816009</td>\n",
       "    </tr>\n",
       "    <tr>\n",
       "      <th>10067</th>\n",
       "      <td>m0187_0_cough.wav</td>\n",
       "      <td>m0187</td>\n",
       "      <td>male</td>\n",
       "      <td>34</td>\n",
       "      <td>EN</td>\n",
       "      <td>[ 1.9651013e-06 -3.0771739e-06  6.0080129e-06 ...</td>\n",
       "      <td>48922</td>\n",
       "      <td>2.218685</td>\n",
       "    </tr>\n",
       "    <tr>\n",
       "      <th>...</th>\n",
       "      <td>...</td>\n",
       "      <td>...</td>\n",
       "      <td>...</td>\n",
       "      <td>...</td>\n",
       "      <td>...</td>\n",
       "      <td>...</td>\n",
       "      <td>...</td>\n",
       "      <td>...</td>\n",
       "    </tr>\n",
       "    <tr>\n",
       "      <th>2173</th>\n",
       "      <td>f0788_0_cough.wav</td>\n",
       "      <td>f0788</td>\n",
       "      <td>female</td>\n",
       "      <td>21</td>\n",
       "      <td>EN</td>\n",
       "      <td>[ 2.2441646e-04  2.2306856e-04  3.1236396e-04 ...</td>\n",
       "      <td>132300</td>\n",
       "      <td>6.000000</td>\n",
       "    </tr>\n",
       "    <tr>\n",
       "      <th>150</th>\n",
       "      <td>f0085_0_laughter.wav</td>\n",
       "      <td>f0085</td>\n",
       "      <td>female</td>\n",
       "      <td>28</td>\n",
       "      <td>EN</td>\n",
       "      <td>[ 0.00102538  0.00075348 -0.00065347 ...  0.  ...</td>\n",
       "      <td>79872</td>\n",
       "      <td>3.622313</td>\n",
       "    </tr>\n",
       "    <tr>\n",
       "      <th>1885</th>\n",
       "      <td>f0698_0_cough.wav</td>\n",
       "      <td>f0698</td>\n",
       "      <td>female</td>\n",
       "      <td>33</td>\n",
       "      <td>ML</td>\n",
       "      <td>[-0.00072937 -0.00123313 -0.00135824 ...  0.  ...</td>\n",
       "      <td>131072</td>\n",
       "      <td>5.944308</td>\n",
       "    </tr>\n",
       "    <tr>\n",
       "      <th>14579</th>\n",
       "      <td>m1567_0_cough.wav</td>\n",
       "      <td>m1567</td>\n",
       "      <td>male</td>\n",
       "      <td>19</td>\n",
       "      <td>PT</td>\n",
       "      <td>[ 7.1377188e-05  5.3688629e-05 -1.7455468e-04 ...</td>\n",
       "      <td>62093</td>\n",
       "      <td>2.816009</td>\n",
       "    </tr>\n",
       "    <tr>\n",
       "      <th>1210</th>\n",
       "      <td>f0485_0_cough.wav</td>\n",
       "      <td>f0485</td>\n",
       "      <td>female</td>\n",
       "      <td>23</td>\n",
       "      <td>ES</td>\n",
       "      <td>[-0.05332846 -0.07899092 -0.06526785 ...  0.  ...</td>\n",
       "      <td>73383</td>\n",
       "      <td>3.328027</td>\n",
       "    </tr>\n",
       "  </tbody>\n",
       "</table>\n",
       "<p>15161 rows × 8 columns</p>\n",
       "</div>"
      ],
      "text/plain": [
       "                        file_name     id      sex  age language  \\\n",
       "1010            f0415_0_sniff.wav  f0415   female   23       PT   \n",
       "20191           m3148_0_sniff.wav  m3148     male   21       IT   \n",
       "2475             f0899_0_sigh.wav  f0899   female   53       EN   \n",
       "6582   f2290_0_throatclearing.wav  f2290   female   32       EN   \n",
       "10067           m0187_0_cough.wav  m0187     male   34       EN   \n",
       "...                           ...    ...      ...  ...      ...   \n",
       "2173            f0788_0_cough.wav  f0788   female   21       EN   \n",
       "150          f0085_0_laughter.wav  f0085   female   28       EN   \n",
       "1885            f0698_0_cough.wav  f0698   female   33       ML   \n",
       "14579           m1567_0_cough.wav  m1567     male   19       PT   \n",
       "1210            f0485_0_cough.wav  f0485   female   23       ES   \n",
       "\n",
       "                                           padded_signal  length  duration  \n",
       "1010   [ 4.38310963e-05  1.17565665e-04 -1.97715286e-...   67738  3.072018  \n",
       "20191  [-3.6970399e-05 -1.5823192e-05  1.9504099e-05 ...   48922  2.218685  \n",
       "2475   [0.00032897 0.0003694  0.00030773 ... 0.      ...   73383  3.328027  \n",
       "6582   [-3.4898369e-07 -8.1891606e-08  9.5978805e-07 ...   62093  2.816009  \n",
       "10067  [ 1.9651013e-06 -3.0771739e-06  6.0080129e-06 ...   48922  2.218685  \n",
       "...                                                  ...     ...       ...  \n",
       "2173   [ 2.2441646e-04  2.2306856e-04  3.1236396e-04 ...  132300  6.000000  \n",
       "150    [ 0.00102538  0.00075348 -0.00065347 ...  0.  ...   79872  3.622313  \n",
       "1885   [-0.00072937 -0.00123313 -0.00135824 ...  0.  ...  131072  5.944308  \n",
       "14579  [ 7.1377188e-05  5.3688629e-05 -1.7455468e-04 ...   62093  2.816009  \n",
       "1210   [-0.05332846 -0.07899092 -0.06526785 ...  0.  ...   73383  3.328027  \n",
       "\n",
       "[15161 rows x 8 columns]"
      ]
     },
     "execution_count": 18,
     "metadata": {},
     "output_type": "execute_result"
    }
   ],
   "source": [
    "X_train"
   ]
  },
  {
   "cell_type": "markdown",
   "id": "d7a0a033-21c4-4396-9afd-de034ef865a8",
   "metadata": {},
   "source": [
    "#### Standardize"
   ]
  },
  {
   "cell_type": "code",
   "execution_count": 31,
   "id": "b2a3604c-5fd2-4b69-acc0-47a8802eb9fe",
   "metadata": {},
   "outputs": [
    {
     "data": {
      "text/plain": [
       "file_name         object\n",
       "id                object\n",
       "sex               object\n",
       "age                int64\n",
       "language          object\n",
       "padded_signal     object\n",
       "length             int64\n",
       "duration         float64\n",
       "dtype: object"
      ]
     },
     "execution_count": 31,
     "metadata": {},
     "output_type": "execute_result"
    }
   ],
   "source": [
    "X_train.dtypes"
   ]
  },
  {
   "cell_type": "code",
   "execution_count": 32,
   "id": "0cb92149-d689-467a-a6ac-03cae994232b",
   "metadata": {},
   "outputs": [
    {
     "ename": "AttributeError",
     "evalue": "'str' object has no attribute 'mean'",
     "output_type": "error",
     "traceback": [
      "\u001b[1;31m---------------------------------------------------------------------------\u001b[0m",
      "\u001b[1;31mAttributeError\u001b[0m                            Traceback (most recent call last)",
      "Input \u001b[1;32mIn [32]\u001b[0m, in \u001b[0;36m<cell line: 1>\u001b[1;34m()\u001b[0m\n\u001b[1;32m----> 1\u001b[0m \u001b[43mX_train\u001b[49m\u001b[43m[\u001b[49m\u001b[38;5;124;43m'\u001b[39;49m\u001b[38;5;124;43mpadded_signal\u001b[39;49m\u001b[38;5;124;43m'\u001b[39;49m\u001b[43m]\u001b[49m\u001b[38;5;241;43m.\u001b[39;49m\u001b[43mapply\u001b[49m\u001b[43m(\u001b[49m\u001b[38;5;28;43;01mlambda\u001b[39;49;00m\u001b[43m \u001b[49m\u001b[43msignal\u001b[49m\u001b[43m:\u001b[49m\u001b[43m \u001b[49m\u001b[43msignal\u001b[49m\u001b[38;5;241;43m.\u001b[39;49m\u001b[43mmean\u001b[49m\u001b[43m(\u001b[49m\u001b[43m)\u001b[49m\u001b[43m)\u001b[49m\n",
      "File \u001b[1;32m~\\anaconda3\\lib\\site-packages\\pandas\\core\\series.py:4433\u001b[0m, in \u001b[0;36mSeries.apply\u001b[1;34m(self, func, convert_dtype, args, **kwargs)\u001b[0m\n\u001b[0;32m   4323\u001b[0m \u001b[38;5;28;01mdef\u001b[39;00m \u001b[38;5;21mapply\u001b[39m(\n\u001b[0;32m   4324\u001b[0m     \u001b[38;5;28mself\u001b[39m,\n\u001b[0;32m   4325\u001b[0m     func: AggFuncType,\n\u001b[1;32m   (...)\u001b[0m\n\u001b[0;32m   4328\u001b[0m     \u001b[38;5;241m*\u001b[39m\u001b[38;5;241m*\u001b[39mkwargs,\n\u001b[0;32m   4329\u001b[0m ) \u001b[38;5;241m-\u001b[39m\u001b[38;5;241m>\u001b[39m DataFrame \u001b[38;5;241m|\u001b[39m Series:\n\u001b[0;32m   4330\u001b[0m     \u001b[38;5;124;03m\"\"\"\u001b[39;00m\n\u001b[0;32m   4331\u001b[0m \u001b[38;5;124;03m    Invoke function on values of Series.\u001b[39;00m\n\u001b[0;32m   4332\u001b[0m \n\u001b[1;32m   (...)\u001b[0m\n\u001b[0;32m   4431\u001b[0m \u001b[38;5;124;03m    dtype: float64\u001b[39;00m\n\u001b[0;32m   4432\u001b[0m \u001b[38;5;124;03m    \"\"\"\u001b[39;00m\n\u001b[1;32m-> 4433\u001b[0m     \u001b[38;5;28;01mreturn\u001b[39;00m \u001b[43mSeriesApply\u001b[49m\u001b[43m(\u001b[49m\u001b[38;5;28;43mself\u001b[39;49m\u001b[43m,\u001b[49m\u001b[43m \u001b[49m\u001b[43mfunc\u001b[49m\u001b[43m,\u001b[49m\u001b[43m \u001b[49m\u001b[43mconvert_dtype\u001b[49m\u001b[43m,\u001b[49m\u001b[43m \u001b[49m\u001b[43margs\u001b[49m\u001b[43m,\u001b[49m\u001b[43m \u001b[49m\u001b[43mkwargs\u001b[49m\u001b[43m)\u001b[49m\u001b[38;5;241;43m.\u001b[39;49m\u001b[43mapply\u001b[49m\u001b[43m(\u001b[49m\u001b[43m)\u001b[49m\n",
      "File \u001b[1;32m~\\anaconda3\\lib\\site-packages\\pandas\\core\\apply.py:1082\u001b[0m, in \u001b[0;36mSeriesApply.apply\u001b[1;34m(self)\u001b[0m\n\u001b[0;32m   1078\u001b[0m \u001b[38;5;28;01mif\u001b[39;00m \u001b[38;5;28misinstance\u001b[39m(\u001b[38;5;28mself\u001b[39m\u001b[38;5;241m.\u001b[39mf, \u001b[38;5;28mstr\u001b[39m):\n\u001b[0;32m   1079\u001b[0m     \u001b[38;5;66;03m# if we are a string, try to dispatch\u001b[39;00m\n\u001b[0;32m   1080\u001b[0m     \u001b[38;5;28;01mreturn\u001b[39;00m \u001b[38;5;28mself\u001b[39m\u001b[38;5;241m.\u001b[39mapply_str()\n\u001b[1;32m-> 1082\u001b[0m \u001b[38;5;28;01mreturn\u001b[39;00m \u001b[38;5;28;43mself\u001b[39;49m\u001b[38;5;241;43m.\u001b[39;49m\u001b[43mapply_standard\u001b[49m\u001b[43m(\u001b[49m\u001b[43m)\u001b[49m\n",
      "File \u001b[1;32m~\\anaconda3\\lib\\site-packages\\pandas\\core\\apply.py:1137\u001b[0m, in \u001b[0;36mSeriesApply.apply_standard\u001b[1;34m(self)\u001b[0m\n\u001b[0;32m   1131\u001b[0m         values \u001b[38;5;241m=\u001b[39m obj\u001b[38;5;241m.\u001b[39mastype(\u001b[38;5;28mobject\u001b[39m)\u001b[38;5;241m.\u001b[39m_values\n\u001b[0;32m   1132\u001b[0m         \u001b[38;5;66;03m# error: Argument 2 to \"map_infer\" has incompatible type\u001b[39;00m\n\u001b[0;32m   1133\u001b[0m         \u001b[38;5;66;03m# \"Union[Callable[..., Any], str, List[Union[Callable[..., Any], str]],\u001b[39;00m\n\u001b[0;32m   1134\u001b[0m         \u001b[38;5;66;03m# Dict[Hashable, Union[Union[Callable[..., Any], str],\u001b[39;00m\n\u001b[0;32m   1135\u001b[0m         \u001b[38;5;66;03m# List[Union[Callable[..., Any], str]]]]]\"; expected\u001b[39;00m\n\u001b[0;32m   1136\u001b[0m         \u001b[38;5;66;03m# \"Callable[[Any], Any]\"\u001b[39;00m\n\u001b[1;32m-> 1137\u001b[0m         mapped \u001b[38;5;241m=\u001b[39m \u001b[43mlib\u001b[49m\u001b[38;5;241;43m.\u001b[39;49m\u001b[43mmap_infer\u001b[49m\u001b[43m(\u001b[49m\n\u001b[0;32m   1138\u001b[0m \u001b[43m            \u001b[49m\u001b[43mvalues\u001b[49m\u001b[43m,\u001b[49m\n\u001b[0;32m   1139\u001b[0m \u001b[43m            \u001b[49m\u001b[43mf\u001b[49m\u001b[43m,\u001b[49m\u001b[43m  \u001b[49m\u001b[38;5;66;43;03m# type: ignore[arg-type]\u001b[39;49;00m\n\u001b[0;32m   1140\u001b[0m \u001b[43m            \u001b[49m\u001b[43mconvert\u001b[49m\u001b[38;5;241;43m=\u001b[39;49m\u001b[38;5;28;43mself\u001b[39;49m\u001b[38;5;241;43m.\u001b[39;49m\u001b[43mconvert_dtype\u001b[49m\u001b[43m,\u001b[49m\n\u001b[0;32m   1141\u001b[0m \u001b[43m        \u001b[49m\u001b[43m)\u001b[49m\n\u001b[0;32m   1143\u001b[0m \u001b[38;5;28;01mif\u001b[39;00m \u001b[38;5;28mlen\u001b[39m(mapped) \u001b[38;5;129;01mand\u001b[39;00m \u001b[38;5;28misinstance\u001b[39m(mapped[\u001b[38;5;241m0\u001b[39m], ABCSeries):\n\u001b[0;32m   1144\u001b[0m     \u001b[38;5;66;03m# GH#43986 Need to do list(mapped) in order to get treated as nested\u001b[39;00m\n\u001b[0;32m   1145\u001b[0m     \u001b[38;5;66;03m#  See also GH#25959 regarding EA support\u001b[39;00m\n\u001b[0;32m   1146\u001b[0m     \u001b[38;5;28;01mreturn\u001b[39;00m obj\u001b[38;5;241m.\u001b[39m_constructor_expanddim(\u001b[38;5;28mlist\u001b[39m(mapped), index\u001b[38;5;241m=\u001b[39mobj\u001b[38;5;241m.\u001b[39mindex)\n",
      "File \u001b[1;32m~\\anaconda3\\lib\\site-packages\\pandas\\_libs\\lib.pyx:2870\u001b[0m, in \u001b[0;36mpandas._libs.lib.map_infer\u001b[1;34m()\u001b[0m\n",
      "Input \u001b[1;32mIn [32]\u001b[0m, in \u001b[0;36m<lambda>\u001b[1;34m(signal)\u001b[0m\n\u001b[1;32m----> 1\u001b[0m X_train[\u001b[38;5;124m'\u001b[39m\u001b[38;5;124mpadded_signal\u001b[39m\u001b[38;5;124m'\u001b[39m]\u001b[38;5;241m.\u001b[39mapply(\u001b[38;5;28;01mlambda\u001b[39;00m signal: \u001b[43msignal\u001b[49m\u001b[38;5;241;43m.\u001b[39;49m\u001b[43mmean\u001b[49m())\n",
      "\u001b[1;31mAttributeError\u001b[0m: 'str' object has no attribute 'mean'"
     ]
    }
   ],
   "source": [
    "X_train['padded_signal'].apply(lambda signal: signal.mean())"
   ]
  },
  {
   "cell_type": "code",
   "execution_count": 35,
   "id": "880446b6-af10-4741-b3b6-78de1002ea88",
   "metadata": {},
   "outputs": [
    {
     "data": {
      "text/plain": [
       "'[ 4.38310963e-05  1.17565665e-04 -1.97715286e-04 ...  0.00000000e+00\\n  0.00000000e+00  0.00000000e+00]'"
      ]
     },
     "execution_count": 35,
     "metadata": {},
     "output_type": "execute_result"
    }
   ],
   "source": [
    "X_train['padded_signal'].iloc[0]"
   ]
  },
  {
   "cell_type": "code",
   "execution_count": null,
   "id": "e758187e-1873-489c-b255-1b5b6782e9ef",
   "metadata": {},
   "outputs": [],
   "source": []
  }
 ],
 "metadata": {
  "kernelspec": {
   "display_name": "Python 3 (ipykernel)",
   "language": "python",
   "name": "python3"
  },
  "language_info": {
   "codemirror_mode": {
    "name": "ipython",
    "version": 3
   },
   "file_extension": ".py",
   "mimetype": "text/x-python",
   "name": "python",
   "nbconvert_exporter": "python",
   "pygments_lexer": "ipython3",
   "version": "3.9.12"
  }
 },
 "nbformat": 4,
 "nbformat_minor": 5
}
