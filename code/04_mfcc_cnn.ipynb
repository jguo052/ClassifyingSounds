{
 "cells": [
  {
   "cell_type": "markdown",
   "metadata": {},
   "source": [
    "# MFCCs Convolutional Neural Network"
   ]
  },
  {
   "cell_type": "markdown",
   "metadata": {},
   "source": [
    "Below we build and assess a convolutional neural network that uses the MFCC image data to predict the sound class: cough, laughter, sigh, sneeze, sniff, and throat clear.\n",
    "\n",
    "An important note is that this code was run on [kaggle](kaggle.com) to use its public GPU. This means the directories in which this notebook pulls from and saves to are specific to kaggle. If you run this notebook on your local machine use the paths to the `mfccs.npy` and `speaker_data_and_target.csv` that were generated in the previous notebook."
   ]
  },
  {
   "cell_type": "markdown",
   "metadata": {},
   "source": [
    "---"
   ]
  },
  {
   "cell_type": "markdown",
   "metadata": {},
   "source": [
    "## Imports and Functions"
   ]
  },
  {
   "cell_type": "code",
   "execution_count": 1,
   "metadata": {
    "_cell_guid": "b1076dfc-b9ad-4769-8c92-a6c4dae69d19",
    "_uuid": "8f2839f25d086af736a60e9eeb907d3b93b6e0e5",
    "execution": {
     "iopub.execute_input": "2022-11-14T20:52:24.398825Z",
     "iopub.status.busy": "2022-11-14T20:52:24.398203Z",
     "iopub.status.idle": "2022-11-14T20:52:30.192167Z",
     "shell.execute_reply": "2022-11-14T20:52:30.191172Z",
     "shell.execute_reply.started": "2022-11-14T20:52:24.398741Z"
    }
   },
   "outputs": [],
   "source": [
    "import numpy as np\n",
    "import pandas as pd\n",
    "import matplotlib.pyplot as plt\n",
    "\n",
    "from sklearn.model_selection import train_test_split\n",
    "from sklearn.metrics import accuracy_score, precision_score, recall_score, f1_score\n",
    "from sklearn.metrics import ConfusionMatrixDisplay\n",
    "\n",
    "from tensorflow.keras.models import Sequential\n",
    "from tensorflow.keras.layers import Dense, Dropout, Conv2D, MaxPooling2D, Flatten, BatchNormalization\n",
    "from tensorflow.keras.regularizers import l2"
   ]
  },
  {
   "cell_type": "markdown",
   "metadata": {},
   "source": [
    "---"
   ]
  },
  {
   "cell_type": "markdown",
   "metadata": {},
   "source": [
    "## Train-Val-Test Split"
   ]
  },
  {
   "cell_type": "markdown",
   "metadata": {},
   "source": [
    "First let us load in our MFCC numpy array and the label data.\n",
    "\n",
    "The label the `sound` is contained in the `speaker_data` dataframe, alongside information about each contributor to the audio dataset. Aside from the labels, `speaker_data` contains the sex, age, country, and language of the contributor. This will be interesting to look into later and see if these factors seem to impact the our model's performance."
   ]
  },
  {
   "cell_type": "code",
   "execution_count": 2,
   "metadata": {
    "execution": {
     "iopub.execute_input": "2022-11-14T20:52:30.194957Z",
     "iopub.status.busy": "2022-11-14T20:52:30.194329Z",
     "iopub.status.idle": "2022-11-14T20:52:32.689103Z",
     "shell.execute_reply": "2022-11-14T20:52:32.688133Z",
     "shell.execute_reply.started": "2022-11-14T20:52:30.194918Z"
    }
   },
   "outputs": [],
   "source": [
    "# directories are through Kaggle, update these paths to where you placed the mfccs and speaker_data_and_target.csv\n",
    "# that were generated in the previous notebook\n",
    "mfccs = np.load('../input/mfcc-data/mfccs.npy')\n",
    "speaker_data = pd.read_csv('../input/speaker-data-and-target/speaker_data_and_target.csv')"
   ]
  },
  {
   "cell_type": "code",
   "execution_count": 3,
   "metadata": {
    "execution": {
     "iopub.execute_input": "2022-11-14T20:52:32.691339Z",
     "iopub.status.busy": "2022-11-14T20:52:32.690921Z",
     "iopub.status.idle": "2022-11-14T20:52:32.712780Z",
     "shell.execute_reply": "2022-11-14T20:52:32.711887Z",
     "shell.execute_reply.started": "2022-11-14T20:52:32.691297Z"
    }
   },
   "outputs": [
    {
     "data": {
      "text/html": [
       "<div>\n",
       "<style scoped>\n",
       "    .dataframe tbody tr th:only-of-type {\n",
       "        vertical-align: middle;\n",
       "    }\n",
       "\n",
       "    .dataframe tbody tr th {\n",
       "        vertical-align: top;\n",
       "    }\n",
       "\n",
       "    .dataframe thead th {\n",
       "        text-align: right;\n",
       "    }\n",
       "</style>\n",
       "<table border=\"1\" class=\"dataframe\">\n",
       "  <thead>\n",
       "    <tr style=\"text-align: right;\">\n",
       "      <th></th>\n",
       "      <th>id</th>\n",
       "      <th>sound</th>\n",
       "      <th>sex</th>\n",
       "      <th>age</th>\n",
       "      <th>country</th>\n",
       "      <th>language</th>\n",
       "    </tr>\n",
       "  </thead>\n",
       "  <tbody>\n",
       "    <tr>\n",
       "      <th>0</th>\n",
       "      <td>f0003</td>\n",
       "      <td>0</td>\n",
       "      <td>female</td>\n",
       "      <td>56</td>\n",
       "      <td>United States of America</td>\n",
       "      <td>EN</td>\n",
       "    </tr>\n",
       "    <tr>\n",
       "      <th>1</th>\n",
       "      <td>f0003</td>\n",
       "      <td>1</td>\n",
       "      <td>female</td>\n",
       "      <td>56</td>\n",
       "      <td>United States of America</td>\n",
       "      <td>EN</td>\n",
       "    </tr>\n",
       "    <tr>\n",
       "      <th>2</th>\n",
       "      <td>f0003</td>\n",
       "      <td>2</td>\n",
       "      <td>female</td>\n",
       "      <td>56</td>\n",
       "      <td>United States of America</td>\n",
       "      <td>EN</td>\n",
       "    </tr>\n",
       "    <tr>\n",
       "      <th>3</th>\n",
       "      <td>f0003</td>\n",
       "      <td>3</td>\n",
       "      <td>female</td>\n",
       "      <td>56</td>\n",
       "      <td>United States of America</td>\n",
       "      <td>EN</td>\n",
       "    </tr>\n",
       "    <tr>\n",
       "      <th>4</th>\n",
       "      <td>f0003</td>\n",
       "      <td>4</td>\n",
       "      <td>female</td>\n",
       "      <td>56</td>\n",
       "      <td>United States of America</td>\n",
       "      <td>EN</td>\n",
       "    </tr>\n",
       "  </tbody>\n",
       "</table>\n",
       "</div>"
      ],
      "text/plain": [
       "      id  sound      sex  age                    country language\n",
       "0  f0003      0   female   56   United States of America       EN\n",
       "1  f0003      1   female   56   United States of America       EN\n",
       "2  f0003      2   female   56   United States of America       EN\n",
       "3  f0003      3   female   56   United States of America       EN\n",
       "4  f0003      4   female   56   United States of America       EN"
      ]
     },
     "execution_count": 3,
     "metadata": {},
     "output_type": "execute_result"
    }
   ],
   "source": [
    "speaker_data.head()"
   ]
  },
  {
   "cell_type": "markdown",
   "metadata": {},
   "source": [
    "A necessary step for preprocessing our MFCC image data is we need an axis depicting the pixel values should be read as greyscale. We can accomplish this with `np.newaxis`."
   ]
  },
  {
   "cell_type": "code",
   "execution_count": 4,
   "metadata": {
    "execution": {
     "iopub.execute_input": "2022-11-14T20:52:32.716143Z",
     "iopub.status.busy": "2022-11-14T20:52:32.715782Z",
     "iopub.status.idle": "2022-11-14T20:52:32.722636Z",
     "shell.execute_reply": "2022-11-14T20:52:32.721563Z",
     "shell.execute_reply.started": "2022-11-14T20:52:32.716107Z"
    }
   },
   "outputs": [],
   "source": [
    "# append 1 to the mfcc data shape (# of files, # of mfccs, # of frames, 1)\n",
    "X = mfccs[..., np.newaxis]\n",
    "y = speaker_data['sound']"
   ]
  },
  {
   "cell_type": "markdown",
   "metadata": {},
   "source": [
    "Next we split our dataset into a training, validation, and test set. The validation data will be used to just our model across each epoch and make adjustments to the architecture of the neural network. The testing set will serve as genuinely unseen data."
   ]
  },
  {
   "cell_type": "code",
   "execution_count": 5,
   "metadata": {
    "execution": {
     "iopub.execute_input": "2022-11-14T20:52:32.724918Z",
     "iopub.status.busy": "2022-11-14T20:52:32.724562Z",
     "iopub.status.idle": "2022-11-14T20:52:32.868595Z",
     "shell.execute_reply": "2022-11-14T20:52:32.867609Z",
     "shell.execute_reply.started": "2022-11-14T20:52:32.724883Z"
    }
   },
   "outputs": [],
   "source": [
    "# separate out a test set from our data\n",
    "X_train_val, X_test, y_train_val, y_test = train_test_split(X, y,\n",
    "                                                            test_size = 0.15,\n",
    "                                                            stratify = y,\n",
    "                                                            random_state = 42)"
   ]
  },
  {
   "cell_type": "code",
   "execution_count": 6,
   "metadata": {
    "execution": {
     "iopub.execute_input": "2022-11-14T20:52:32.870654Z",
     "iopub.status.busy": "2022-11-14T20:52:32.870056Z",
     "iopub.status.idle": "2022-11-14T20:52:32.994093Z",
     "shell.execute_reply": "2022-11-14T20:52:32.993098Z",
     "shell.execute_reply.started": "2022-11-14T20:52:32.870617Z"
    }
   },
   "outputs": [],
   "source": [
    "# separate the not testing data into a train and validation set\n",
    "X_train, X_val, y_train, y_val = train_test_split(X_train_val, y_train_val,\n",
    "                                                 test_size = 0.15,\n",
    "                                                 stratify = y_train_val,\n",
    "                                                 random_state = 42)"
   ]
  },
  {
   "cell_type": "markdown",
   "metadata": {},
   "source": [
    "---"
   ]
  },
  {
   "cell_type": "markdown",
   "metadata": {},
   "source": [
    "## CNN"
   ]
  },
  {
   "cell_type": "markdown",
   "metadata": {},
   "source": [
    "After several refinements, the architecture below led to one of our better performing models. This model contains several convolutional, max pooling, and dense layers. There is also some regularization in the form of Dropout and L2 regularization. Batch normalization is included for training efficiency."
   ]
  },
  {
   "cell_type": "code",
   "execution_count": 7,
   "metadata": {
    "execution": {
     "iopub.execute_input": "2022-11-14T20:52:32.997065Z",
     "iopub.status.busy": "2022-11-14T20:52:32.995460Z",
     "iopub.status.idle": "2022-11-14T20:52:35.967764Z",
     "shell.execute_reply": "2022-11-14T20:52:35.966746Z",
     "shell.execute_reply.started": "2022-11-14T20:52:32.997024Z"
    }
   },
   "outputs": [
    {
     "name": "stderr",
     "output_type": "stream",
     "text": [
      "2022-11-14 20:52:33.094635: I tensorflow/stream_executor/cuda/cuda_gpu_executor.cc:937] successful NUMA node read from SysFS had negative value (-1), but there must be at least one NUMA node, so returning NUMA node zero\n",
      "2022-11-14 20:52:33.213243: I tensorflow/stream_executor/cuda/cuda_gpu_executor.cc:937] successful NUMA node read from SysFS had negative value (-1), but there must be at least one NUMA node, so returning NUMA node zero\n",
      "2022-11-14 20:52:33.214021: I tensorflow/stream_executor/cuda/cuda_gpu_executor.cc:937] successful NUMA node read from SysFS had negative value (-1), but there must be at least one NUMA node, so returning NUMA node zero\n",
      "2022-11-14 20:52:33.215949: I tensorflow/core/platform/cpu_feature_guard.cc:142] This TensorFlow binary is optimized with oneAPI Deep Neural Network Library (oneDNN) to use the following CPU instructions in performance-critical operations:  AVX2 AVX512F FMA\n",
      "To enable them in other operations, rebuild TensorFlow with the appropriate compiler flags.\n",
      "2022-11-14 20:52:33.216279: I tensorflow/stream_executor/cuda/cuda_gpu_executor.cc:937] successful NUMA node read from SysFS had negative value (-1), but there must be at least one NUMA node, so returning NUMA node zero\n",
      "2022-11-14 20:52:33.217002: I tensorflow/stream_executor/cuda/cuda_gpu_executor.cc:937] successful NUMA node read from SysFS had negative value (-1), but there must be at least one NUMA node, so returning NUMA node zero\n",
      "2022-11-14 20:52:33.217670: I tensorflow/stream_executor/cuda/cuda_gpu_executor.cc:937] successful NUMA node read from SysFS had negative value (-1), but there must be at least one NUMA node, so returning NUMA node zero\n",
      "2022-11-14 20:52:35.464480: I tensorflow/stream_executor/cuda/cuda_gpu_executor.cc:937] successful NUMA node read from SysFS had negative value (-1), but there must be at least one NUMA node, so returning NUMA node zero\n",
      "2022-11-14 20:52:35.465310: I tensorflow/stream_executor/cuda/cuda_gpu_executor.cc:937] successful NUMA node read from SysFS had negative value (-1), but there must be at least one NUMA node, so returning NUMA node zero\n",
      "2022-11-14 20:52:35.465973: I tensorflow/stream_executor/cuda/cuda_gpu_executor.cc:937] successful NUMA node read from SysFS had negative value (-1), but there must be at least one NUMA node, so returning NUMA node zero\n",
      "2022-11-14 20:52:35.466586: I tensorflow/core/common_runtime/gpu/gpu_device.cc:1510] Created device /job:localhost/replica:0/task:0/device:GPU:0 with 15401 MB memory:  -> device: 0, name: Tesla P100-PCIE-16GB, pci bus id: 0000:00:04.0, compute capability: 6.0\n"
     ]
    }
   ],
   "source": [
    "model = Sequential()\n",
    "\n",
    "model.add(Conv2D(filters = 32, kernel_size= (3,3),\n",
    "                 activation = 'relu', padding = 'same',\n",
    "                 input_shape = (20,259,1), kernel_regularizer= l2(0.001)))\n",
    "model.add(MaxPooling2D(pool_size = (2,2), padding = 'same'))\n",
    "model.add(BatchNormalization())\n",
    "model.add(Dropout(0.2))\n",
    "\n",
    "model.add(Conv2D(filters = 32, kernel_size= (3,3), activation = 'relu', padding = 'same', kernel_regularizer= l2(0.001)))\n",
    "model.add(MaxPooling2D(pool_size = (2,2), padding = 'same'))\n",
    "model.add(BatchNormalization())\n",
    "model.add(Dropout(0.2))\n",
    "\n",
    "model.add(Conv2D(filters = 32, kernel_size= (3,3), activation = 'relu', padding = 'same', kernel_regularizer= l2(0.001)))\n",
    "model.add(MaxPooling2D(pool_size = (2,2), padding = 'same'))\n",
    "model.add(BatchNormalization())\n",
    "model.add(Dropout(0.2))\n",
    "\n",
    "model.add(Flatten())\n",
    "\n",
    "model.add(Dense(32, activation = 'relu', kernel_regularizer= l2(0.001)))\n",
    "model.add(Dropout(0.2))\n",
    "\n",
    "model.add(Dense(32, activation = 'relu', kernel_regularizer= l2(0.001)))\n",
    "model.add(Dropout(0.2))\n",
    "\n",
    "model.add(Dense(32, activation = 'relu', kernel_regularizer= l2(0.001)))\n",
    "model.add(Dropout(0.2))\n",
    "\n",
    "model.add(Dense(6, activation = 'softmax'))\n",
    "\n",
    "model.compile(optimizer = 'adam', loss = 'sparse_categorical_crossentropy', metrics = ['accuracy'])"
   ]
  },
  {
   "cell_type": "code",
   "execution_count": 8,
   "metadata": {
    "execution": {
     "iopub.execute_input": "2022-11-14T20:52:35.970132Z",
     "iopub.status.busy": "2022-11-14T20:52:35.969107Z",
     "iopub.status.idle": "2022-11-14T20:54:09.782346Z",
     "shell.execute_reply": "2022-11-14T20:54:09.781440Z",
     "shell.execute_reply.started": "2022-11-14T20:52:35.970095Z"
    }
   },
   "outputs": [
    {
     "name": "stderr",
     "output_type": "stream",
     "text": [
      "2022-11-14 20:52:36.634413: I tensorflow/compiler/mlir/mlir_graph_optimization_pass.cc:185] None of the MLIR Optimization Passes are enabled (registered 2)\n"
     ]
    },
    {
     "name": "stdout",
     "output_type": "stream",
     "text": [
      "Epoch 1/30\n"
     ]
    },
    {
     "name": "stderr",
     "output_type": "stream",
     "text": [
      "2022-11-14 20:52:38.439397: I tensorflow/stream_executor/cuda/cuda_dnn.cc:369] Loaded cuDNN version 8005\n"
     ]
    },
    {
     "name": "stdout",
     "output_type": "stream",
     "text": [
      "474/474 [==============================] - 11s 7ms/step - loss: 1.8601 - accuracy: 0.2613 - val_loss: 1.6868 - val_accuracy: 0.3457\n",
      "Epoch 2/30\n",
      "474/474 [==============================] - 3s 6ms/step - loss: 1.4670 - accuracy: 0.4585 - val_loss: 1.1436 - val_accuracy: 0.6200\n",
      "Epoch 3/30\n",
      "474/474 [==============================] - 3s 6ms/step - loss: 1.1360 - accuracy: 0.6343 - val_loss: 0.9049 - val_accuracy: 0.7354\n",
      "Epoch 4/30\n",
      "474/474 [==============================] - 3s 6ms/step - loss: 0.9444 - accuracy: 0.7370 - val_loss: 0.8159 - val_accuracy: 0.7881\n",
      "Epoch 5/30\n",
      "474/474 [==============================] - 3s 6ms/step - loss: 0.8523 - accuracy: 0.7817 - val_loss: 0.7213 - val_accuracy: 0.8176\n",
      "Epoch 6/30\n",
      "474/474 [==============================] - 3s 6ms/step - loss: 0.7980 - accuracy: 0.8049 - val_loss: 0.6632 - val_accuracy: 0.8371\n",
      "Epoch 7/30\n",
      "474/474 [==============================] - 3s 6ms/step - loss: 0.7603 - accuracy: 0.8188 - val_loss: 0.6858 - val_accuracy: 0.8386\n",
      "Epoch 8/30\n",
      "474/474 [==============================] - 3s 6ms/step - loss: 0.7327 - accuracy: 0.8294 - val_loss: 0.8003 - val_accuracy: 0.8072\n",
      "Epoch 9/30\n",
      "474/474 [==============================] - 3s 6ms/step - loss: 0.7194 - accuracy: 0.8345 - val_loss: 0.6924 - val_accuracy: 0.8359\n",
      "Epoch 10/30\n",
      "474/474 [==============================] - 3s 6ms/step - loss: 0.6974 - accuracy: 0.8424 - val_loss: 0.6948 - val_accuracy: 0.8401\n",
      "Epoch 11/30\n",
      "474/474 [==============================] - 3s 6ms/step - loss: 0.6951 - accuracy: 0.8437 - val_loss: 0.6278 - val_accuracy: 0.8599\n",
      "Epoch 12/30\n",
      "474/474 [==============================] - 3s 6ms/step - loss: 0.6771 - accuracy: 0.8499 - val_loss: 0.6450 - val_accuracy: 0.8561\n",
      "Epoch 13/30\n",
      "474/474 [==============================] - 3s 6ms/step - loss: 0.6671 - accuracy: 0.8551 - val_loss: 0.6428 - val_accuracy: 0.8498\n",
      "Epoch 14/30\n",
      "474/474 [==============================] - 3s 6ms/step - loss: 0.6638 - accuracy: 0.8512 - val_loss: 0.6453 - val_accuracy: 0.8513\n",
      "Epoch 15/30\n",
      "474/474 [==============================] - 3s 6ms/step - loss: 0.6596 - accuracy: 0.8555 - val_loss: 0.6120 - val_accuracy: 0.8685\n",
      "Epoch 16/30\n",
      "474/474 [==============================] - 3s 6ms/step - loss: 0.6581 - accuracy: 0.8574 - val_loss: 0.6255 - val_accuracy: 0.8561\n",
      "Epoch 17/30\n",
      "474/474 [==============================] - 3s 6ms/step - loss: 0.6454 - accuracy: 0.8589 - val_loss: 0.6563 - val_accuracy: 0.8599\n",
      "Epoch 18/30\n",
      "474/474 [==============================] - 3s 6ms/step - loss: 0.6466 - accuracy: 0.8645 - val_loss: 0.6516 - val_accuracy: 0.8501\n",
      "Epoch 19/30\n",
      "474/474 [==============================] - 3s 6ms/step - loss: 0.6437 - accuracy: 0.8649 - val_loss: 0.6300 - val_accuracy: 0.8550\n",
      "Epoch 20/30\n",
      "474/474 [==============================] - 3s 6ms/step - loss: 0.6323 - accuracy: 0.8623 - val_loss: 0.6428 - val_accuracy: 0.8599\n",
      "Epoch 21/30\n",
      "474/474 [==============================] - 3s 6ms/step - loss: 0.6380 - accuracy: 0.8647 - val_loss: 0.6394 - val_accuracy: 0.8591\n",
      "Epoch 22/30\n",
      "474/474 [==============================] - 3s 6ms/step - loss: 0.6237 - accuracy: 0.8701 - val_loss: 0.6141 - val_accuracy: 0.8714\n",
      "Epoch 23/30\n",
      "474/474 [==============================] - 3s 6ms/step - loss: 0.6236 - accuracy: 0.8703 - val_loss: 0.6623 - val_accuracy: 0.8516\n",
      "Epoch 24/30\n",
      "474/474 [==============================] - 3s 6ms/step - loss: 0.6369 - accuracy: 0.8656 - val_loss: 0.6406 - val_accuracy: 0.8625\n",
      "Epoch 25/30\n",
      "474/474 [==============================] - 3s 6ms/step - loss: 0.6250 - accuracy: 0.8696 - val_loss: 0.6130 - val_accuracy: 0.8718\n",
      "Epoch 26/30\n",
      "474/474 [==============================] - 3s 6ms/step - loss: 0.6268 - accuracy: 0.8700 - val_loss: 0.6611 - val_accuracy: 0.8599\n",
      "Epoch 27/30\n",
      "474/474 [==============================] - 3s 6ms/step - loss: 0.6141 - accuracy: 0.8700 - val_loss: 0.6446 - val_accuracy: 0.8595\n",
      "Epoch 28/30\n",
      "474/474 [==============================] - 3s 6ms/step - loss: 0.6204 - accuracy: 0.8716 - val_loss: 0.6332 - val_accuracy: 0.8614\n",
      "Epoch 29/30\n",
      "474/474 [==============================] - 3s 6ms/step - loss: 0.6235 - accuracy: 0.8726 - val_loss: 0.6054 - val_accuracy: 0.8733\n",
      "Epoch 30/30\n",
      "474/474 [==============================] - 3s 6ms/step - loss: 0.6133 - accuracy: 0.8762 - val_loss: 0.6317 - val_accuracy: 0.8651\n"
     ]
    }
   ],
   "source": [
    "history = model.fit(X_train, y_train, batch_size = 32, epochs = 30, validation_data = (X_val, y_val))"
   ]
  },
  {
   "cell_type": "markdown",
   "metadata": {},
   "source": [
    "## Assessing the Model"
   ]
  },
  {
   "cell_type": "markdown",
   "metadata": {},
   "source": [
    "First we plot the model's performance history across each epoch during training. We check both loss and accuracy on the training and validation sets."
   ]
  },
  {
   "cell_type": "code",
   "execution_count": 10,
   "metadata": {
    "execution": {
     "iopub.execute_input": "2022-11-14T20:56:11.078465Z",
     "iopub.status.busy": "2022-11-14T20:56:11.077881Z",
     "iopub.status.idle": "2022-11-14T20:56:11.657386Z",
     "shell.execute_reply": "2022-11-14T20:56:11.656324Z",
     "shell.execute_reply.started": "2022-11-14T20:56:11.078418Z"
    }
   },
   "outputs": [
    {
     "data": {
      "image/png": "[encoded data removed]",
      "text/plain": [
       "<Figure size 1152x432 with 2 Axes>"
      ]
     },
     "metadata": {
      "needs_background": "light"
     },
     "output_type": "display_data"
    }
   ],
   "source": [
    "plt.figure(figsize = (16,6))\n",
    "\n",
    "plt.suptitle('MFCC CNN Model Performance', size = 25)\n",
    "\n",
    "plt.subplot(1,2,1)\n",
    "#plt.title('Loss', size = 25)\n",
    "plt.xlabel('Epoch', size = 15)\n",
    "plt.ylabel('Loss', size = 15)\n",
    "plt.plot(history.history['loss'], color = 'steelblue', label = 'Train')\n",
    "plt.plot(history.history['val_loss'], color = 'mediumseagreen', label = 'Test')\n",
    "plt.legend(fontsize = 'large', frameon = False)\n",
    "\n",
    "plt.subplot(1,2,2)\n",
    "#plt.title('Accuracy', size = 25)\n",
    "plt.xlabel('Epoch', size = 15)\n",
    "plt.ylabel('Accuracy', size = 15)\n",
    "plt.plot(history.history['accuracy'], color = 'steelblue', label = 'Train')\n",
    "plt.plot(history.history['val_accuracy'], color = 'mediumseagreen', label = 'Test')\n",
    "plt.legend(fontsize = 'large', frameon = False)\n",
    "\n",
    "plt.savefig('mfcc_cnn.jpg');"
   ]
  },
  {
   "cell_type": "markdown",
   "metadata": {},
   "source": [
    "The train and test graphs hug each other very cosely and suggest the model is not overfit."
   ]
  },
  {
   "cell_type": "markdown",
   "metadata": {},
   "source": [
    "Let us now look at the quality of the predictions on test data set. Our model predictions come in the form of probabilities, so we need to use `np.argmax()` to extract the index with the largest probability. This will be the label prediction. It will be interesting to examine when the model was confident or not, so we will also store the probability the model assigned to its prediction."
   ]
  },
  {
   "cell_type": "code",
   "execution_count": 11,
   "metadata": {
    "execution": {
     "iopub.execute_input": "2022-11-14T20:56:16.749613Z",
     "iopub.status.busy": "2022-11-14T20:56:16.749251Z",
     "iopub.status.idle": "2022-11-14T20:56:17.320241Z",
     "shell.execute_reply": "2022-11-14T20:56:17.319253Z",
     "shell.execute_reply.started": "2022-11-14T20:56:16.749585Z"
    }
   },
   "outputs": [],
   "source": [
    "# model's expected probability of each sound category\n",
    "test_probs = model.predict(X_test)\n",
    "\n",
    "# model's prediction (index with the highest probability value)\n",
    "test_preds = np.argmax(test_probs, axis = 1)\n",
    "\n",
    "# model's expected probability of correct prediction\n",
    "test_confidence = test_probs.max(axis = 1)"
   ]
  },
  {
   "cell_type": "code",
   "execution_count": 12,
   "metadata": {
    "execution": {
     "iopub.execute_input": "2022-11-14T20:56:17.322472Z",
     "iopub.status.busy": "2022-11-14T20:56:17.322094Z",
     "iopub.status.idle": "2022-11-14T20:56:17.341422Z",
     "shell.execute_reply": "2022-11-14T20:56:17.340159Z",
     "shell.execute_reply.started": "2022-11-14T20:56:17.322443Z"
    }
   },
   "outputs": [
    {
     "name": "stdout",
     "output_type": "stream",
     "text": [
      "Accuracy: 0.8672172808132147\n",
      "Recall: [0.90285714 0.9047619  0.86666667 0.86641221 0.90285714 0.75954198]\n",
      "Precision: [0.76823339 0.92592593 0.86337761 0.90258449 0.89265537 0.87089716]\n",
      "F1: [0.83012259 0.91522158 0.86501901 0.88412853 0.89772727 0.81141692]\n"
     ]
    }
   ],
   "source": [
    "print('Accuracy:', accuracy_score(y_test, test_preds))\n",
    "print('Recall:', recall_score(y_test, test_preds, average = None))\n",
    "print('Precision:', precision_score(y_test, test_preds, average = None))\n",
    "print('F1:', f1_score(y_test, test_preds, average = None))"
   ]
  },
  {
   "cell_type": "markdown",
   "metadata": {},
   "source": [
    "The lists above represent scores for cough, laughter, sigh, sneeze, sniff, and throat clearing, respectively.\n",
    "\n",
    "The recall score is strongest with coughs, laughter, and sniffs, and poorest with throatclearing. This means that the model does not label the first group as anything else very often but will frequently label throatclears as something else (likely a cough). Below we have plotted a confusion matrix and we can see that the model makes the most errors deciding between coughs and throat clears, oftentimes classifying a throat clear as a cough.\n",
    "\n",
    "The precision scores are generally quite except for coughs. This makes sense with are previous analysis that throat clears are often classified incorrectly as coughs. In other words, cough classifications are a bit less precise.\n",
    "\n",
    "Our F1 scores are a balance of recall and precision. Unsurprisingly, we see the highest F1 scores alongside laughs and sniffs. Our lowest value occurs with throat clears."
   ]
  },
  {
   "cell_type": "code",
   "execution_count": 13,
   "metadata": {
    "execution": {
     "iopub.execute_input": "2022-11-14T20:56:56.527751Z",
     "iopub.status.busy": "2022-11-14T20:56:56.527044Z",
     "iopub.status.idle": "2022-11-14T20:56:57.034770Z",
     "shell.execute_reply": "2022-11-14T20:56:57.033114Z",
     "shell.execute_reply.started": "2022-11-14T20:56:56.527714Z"
    }
   },
   "outputs": [
    {
     "data": {
      "image/png": "[encoded data removed]",
      "text/plain": [
       "<Figure size 720x720 with 2 Axes>"
      ]
     },
     "metadata": {
      "needs_background": "light"
     },
     "output_type": "display_data"
    }
   ],
   "source": [
    "sound_label = ['Cough', 'Laughter', 'Sigh', 'Sneeze', 'Sniff', 'Throatclearing']\n",
    "\n",
    "fig, ax = plt.subplots(figsize=(10, 10))\n",
    "ConfusionMatrixDisplay.from_predictions(y_test, test_preds, ax = ax, display_labels = sound_label)\n",
    "plt.savefig('mfcc_confusion_matric.jpg');"
   ]
  },
  {
   "cell_type": "markdown",
   "metadata": {},
   "source": [
    "## Saving The Model and Prediction Data"
   ]
  },
  {
   "cell_type": "markdown",
   "metadata": {},
   "source": [
    "Keras offers a method for saving neural networks for later use. Let us save our model to be used later in a `Streamlit` application."
   ]
  },
  {
   "cell_type": "code",
   "execution_count": 14,
   "metadata": {
    "execution": {
     "iopub.execute_input": "2022-11-14T20:59:52.029297Z",
     "iopub.status.busy": "2022-11-14T20:59:52.028915Z",
     "iopub.status.idle": "2022-11-14T20:59:52.090818Z",
     "shell.execute_reply": "2022-11-14T20:59:52.089899Z",
     "shell.execute_reply.started": "2022-11-14T20:59:52.029267Z"
    }
   },
   "outputs": [],
   "source": [
    "model.save('mfcc_model.h5')"
   ]
  },
  {
   "cell_type": "markdown",
   "metadata": {},
   "source": [
    "There is some more potential for analysis with the prediction, confidence, and speaker data. Let us combine these all into one dataframe and save it to explore in another notebook."
   ]
  },
  {
   "cell_type": "code",
   "execution_count": 15,
   "metadata": {
    "execution": {
     "iopub.execute_input": "2022-11-14T21:00:06.690720Z",
     "iopub.status.busy": "2022-11-14T21:00:06.690334Z",
     "iopub.status.idle": "2022-11-14T21:00:06.699637Z",
     "shell.execute_reply": "2022-11-14T21:00:06.698561Z",
     "shell.execute_reply.started": "2022-11-14T21:00:06.690690Z"
    }
   },
   "outputs": [],
   "source": [
    "test_indices = y_test.index\n",
    "test_speaker_data = speaker_data.loc[test_indices]"
   ]
  },
  {
   "cell_type": "code",
   "execution_count": 16,
   "metadata": {
    "execution": {
     "iopub.execute_input": "2022-11-14T21:00:07.666873Z",
     "iopub.status.busy": "2022-11-14T21:00:07.666525Z",
     "iopub.status.idle": "2022-11-14T21:00:07.683235Z",
     "shell.execute_reply": "2022-11-14T21:00:07.682104Z",
     "shell.execute_reply.started": "2022-11-14T21:00:07.666844Z"
    }
   },
   "outputs": [
    {
     "data": {
      "text/html": [
       "<div>\n",
       "<style scoped>\n",
       "    .dataframe tbody tr th:only-of-type {\n",
       "        vertical-align: middle;\n",
       "    }\n",
       "\n",
       "    .dataframe tbody tr th {\n",
       "        vertical-align: top;\n",
       "    }\n",
       "\n",
       "    .dataframe thead th {\n",
       "        text-align: right;\n",
       "    }\n",
       "</style>\n",
       "<table border=\"1\" class=\"dataframe\">\n",
       "  <thead>\n",
       "    <tr style=\"text-align: right;\">\n",
       "      <th></th>\n",
       "      <th>id</th>\n",
       "      <th>sound</th>\n",
       "      <th>sex</th>\n",
       "      <th>age</th>\n",
       "      <th>country</th>\n",
       "      <th>language</th>\n",
       "      <th>pred</th>\n",
       "      <th>confidence</th>\n",
       "    </tr>\n",
       "  </thead>\n",
       "  <tbody>\n",
       "    <tr>\n",
       "      <th>4657</th>\n",
       "      <td>f1618</td>\n",
       "      <td>0</td>\n",
       "      <td>female</td>\n",
       "      <td>33</td>\n",
       "      <td>United States of America</td>\n",
       "      <td>EN</td>\n",
       "      <td>0</td>\n",
       "      <td>0.999987</td>\n",
       "    </tr>\n",
       "    <tr>\n",
       "      <th>20733</th>\n",
       "      <td>m3306</td>\n",
       "      <td>0</td>\n",
       "      <td>male</td>\n",
       "      <td>32</td>\n",
       "      <td>United States of America</td>\n",
       "      <td>EN</td>\n",
       "      <td>0</td>\n",
       "      <td>0.996304</td>\n",
       "    </tr>\n",
       "    <tr>\n",
       "      <th>16986</th>\n",
       "      <td>m2271</td>\n",
       "      <td>1</td>\n",
       "      <td>male</td>\n",
       "      <td>25</td>\n",
       "      <td>India</td>\n",
       "      <td>TA</td>\n",
       "      <td>1</td>\n",
       "      <td>0.745164</td>\n",
       "    </tr>\n",
       "    <tr>\n",
       "      <th>14919</th>\n",
       "      <td>m1678</td>\n",
       "      <td>4</td>\n",
       "      <td>male</td>\n",
       "      <td>20</td>\n",
       "      <td>Brazil</td>\n",
       "      <td>PT</td>\n",
       "      <td>4</td>\n",
       "      <td>0.999747</td>\n",
       "    </tr>\n",
       "    <tr>\n",
       "      <th>19525</th>\n",
       "      <td>m2954</td>\n",
       "      <td>4</td>\n",
       "      <td>male</td>\n",
       "      <td>23</td>\n",
       "      <td>Brazil</td>\n",
       "      <td>PT</td>\n",
       "      <td>4</td>\n",
       "      <td>0.959576</td>\n",
       "    </tr>\n",
       "  </tbody>\n",
       "</table>\n",
       "</div>"
      ],
      "text/plain": [
       "          id  sound      sex  age                    country language  pred  \\\n",
       "4657   f1618      0   female   33   United States of America       EN     0   \n",
       "20733  m3306      0     male   32   United States of America       EN     0   \n",
       "16986  m2271      1     male   25                      India       TA     1   \n",
       "14919  m1678      4     male   20                     Brazil       PT     4   \n",
       "19525  m2954      4     male   23                     Brazil       PT     4   \n",
       "\n",
       "       confidence  \n",
       "4657     0.999987  \n",
       "20733    0.996304  \n",
       "16986    0.745164  \n",
       "14919    0.999747  \n",
       "19525    0.959576  "
      ]
     },
     "execution_count": 16,
     "metadata": {},
     "output_type": "execute_result"
    }
   ],
   "source": [
    "test_speaker_data['pred'] = test_preds\n",
    "test_speaker_data['confidence'] = test_confidence\n",
    "test_speaker_data.head()"
   ]
  },
  {
   "cell_type": "markdown",
   "metadata": {},
   "source": [
    "Let us save this test set prediction data so we can perform analysis on it in a later notebook."
   ]
  },
  {
   "cell_type": "code",
   "execution_count": 18,
   "metadata": {
    "execution": {
     "iopub.execute_input": "2022-11-14T21:00:24.969850Z",
     "iopub.status.busy": "2022-11-14T21:00:24.969488Z",
     "iopub.status.idle": "2022-11-14T21:00:24.987948Z",
     "shell.execute_reply": "2022-11-14T21:00:24.987065Z",
     "shell.execute_reply.started": "2022-11-14T21:00:24.969821Z"
    }
   },
   "outputs": [],
   "source": [
    "test_speaker_data.to_csv('test_speaker_data.csv', index = False)"
   ]
  },
  {
   "cell_type": "code",
   "execution_count": null,
   "metadata": {},
   "outputs": [],
   "source": []
  },
  {
   "cell_type": "code",
   "execution_count": null,
   "metadata": {},
   "outputs": [],
   "source": []
  },
  {
   "cell_type": "code",
   "execution_count": 97,
   "metadata": {
    "execution": {
     "iopub.execute_input": "2022-11-14T06:57:44.271276Z",
     "iopub.status.busy": "2022-11-14T06:57:44.270707Z",
     "iopub.status.idle": "2022-11-14T06:57:44.303036Z",
     "shell.execute_reply": "2022-11-14T06:57:44.301634Z",
     "shell.execute_reply.started": "2022-11-14T06:57:44.271241Z"
    }
   },
   "outputs": [
    {
     "data": {
      "text/html": [
       "<div>\n",
       "<style scoped>\n",
       "    .dataframe tbody tr th:only-of-type {\n",
       "        vertical-align: middle;\n",
       "    }\n",
       "\n",
       "    .dataframe tbody tr th {\n",
       "        vertical-align: top;\n",
       "    }\n",
       "\n",
       "    .dataframe thead th {\n",
       "        text-align: right;\n",
       "    }\n",
       "</style>\n",
       "<table border=\"1\" class=\"dataframe\">\n",
       "  <thead>\n",
       "    <tr style=\"text-align: right;\">\n",
       "      <th></th>\n",
       "      <th>id</th>\n",
       "      <th>sound</th>\n",
       "      <th>sex</th>\n",
       "      <th>age</th>\n",
       "      <th>country</th>\n",
       "      <th>language</th>\n",
       "      <th>pred</th>\n",
       "      <th>confidence</th>\n",
       "    </tr>\n",
       "  </thead>\n",
       "  <tbody>\n",
       "    <tr>\n",
       "      <th>16986</th>\n",
       "      <td>m2271</td>\n",
       "      <td>1</td>\n",
       "      <td>male</td>\n",
       "      <td>25</td>\n",
       "      <td>India</td>\n",
       "      <td>TA</td>\n",
       "      <td>2</td>\n",
       "      <td>0.678301</td>\n",
       "    </tr>\n",
       "    <tr>\n",
       "      <th>16346</th>\n",
       "      <td>m2089</td>\n",
       "      <td>3</td>\n",
       "      <td>male</td>\n",
       "      <td>38</td>\n",
       "      <td>Canada</td>\n",
       "      <td>EN</td>\n",
       "      <td>0</td>\n",
       "      <td>0.367634</td>\n",
       "    </tr>\n",
       "    <tr>\n",
       "      <th>14811</th>\n",
       "      <td>m1632</td>\n",
       "      <td>4</td>\n",
       "      <td>male</td>\n",
       "      <td>31</td>\n",
       "      <td>India</td>\n",
       "      <td>HI</td>\n",
       "      <td>2</td>\n",
       "      <td>0.794224</td>\n",
       "    </tr>\n",
       "    <tr>\n",
       "      <th>17853</th>\n",
       "      <td>m2507</td>\n",
       "      <td>0</td>\n",
       "      <td>male</td>\n",
       "      <td>43</td>\n",
       "      <td>Brazil</td>\n",
       "      <td>PT</td>\n",
       "      <td>2</td>\n",
       "      <td>0.487990</td>\n",
       "    </tr>\n",
       "    <tr>\n",
       "      <th>7155</th>\n",
       "      <td>f2522</td>\n",
       "      <td>2</td>\n",
       "      <td>female</td>\n",
       "      <td>47</td>\n",
       "      <td>United States of America</td>\n",
       "      <td>ZH</td>\n",
       "      <td>3</td>\n",
       "      <td>0.338817</td>\n",
       "    </tr>\n",
       "    <tr>\n",
       "      <th>...</th>\n",
       "      <td>...</td>\n",
       "      <td>...</td>\n",
       "      <td>...</td>\n",
       "      <td>...</td>\n",
       "      <td>...</td>\n",
       "      <td>...</td>\n",
       "      <td>...</td>\n",
       "      <td>...</td>\n",
       "    </tr>\n",
       "    <tr>\n",
       "      <th>15707</th>\n",
       "      <td>m1926</td>\n",
       "      <td>0</td>\n",
       "      <td>male</td>\n",
       "      <td>64</td>\n",
       "      <td>United States of America</td>\n",
       "      <td>TA</td>\n",
       "      <td>1</td>\n",
       "      <td>0.818769</td>\n",
       "    </tr>\n",
       "    <tr>\n",
       "      <th>3466</th>\n",
       "      <td>f1238</td>\n",
       "      <td>3</td>\n",
       "      <td>female</td>\n",
       "      <td>26</td>\n",
       "      <td>United States of America</td>\n",
       "      <td>ES</td>\n",
       "      <td>2</td>\n",
       "      <td>0.988301</td>\n",
       "    </tr>\n",
       "    <tr>\n",
       "      <th>12280</th>\n",
       "      <td>m0829</td>\n",
       "      <td>5</td>\n",
       "      <td>male</td>\n",
       "      <td>23</td>\n",
       "      <td>United Kingdom</td>\n",
       "      <td>EN</td>\n",
       "      <td>4</td>\n",
       "      <td>0.686044</td>\n",
       "    </tr>\n",
       "    <tr>\n",
       "      <th>16390</th>\n",
       "      <td>m2103</td>\n",
       "      <td>5</td>\n",
       "      <td>male</td>\n",
       "      <td>35</td>\n",
       "      <td>India</td>\n",
       "      <td>EN</td>\n",
       "      <td>3</td>\n",
       "      <td>0.397201</td>\n",
       "    </tr>\n",
       "    <tr>\n",
       "      <th>788</th>\n",
       "      <td>f0330</td>\n",
       "      <td>4</td>\n",
       "      <td>female</td>\n",
       "      <td>38</td>\n",
       "      <td>India</td>\n",
       "      <td>TA</td>\n",
       "      <td>5</td>\n",
       "      <td>0.404087</td>\n",
       "    </tr>\n",
       "  </tbody>\n",
       "</table>\n",
       "<p>417 rows × 8 columns</p>\n",
       "</div>"
      ],
      "text/plain": [
       "          id  sound      sex  age                    country language  pred  \\\n",
       "16986  m2271      1     male   25                      India       TA     2   \n",
       "16346  m2089      3     male   38                     Canada       EN     0   \n",
       "14811  m1632      4     male   31                      India       HI     2   \n",
       "17853  m2507      0     male   43                     Brazil       PT     2   \n",
       "7155   f2522      2   female   47   United States of America       ZH     3   \n",
       "...      ...    ...      ...  ...                        ...      ...   ...   \n",
       "15707  m1926      0     male   64   United States of America       TA     1   \n",
       "3466   f1238      3   female   26   United States of America       ES     2   \n",
       "12280  m0829      5     male   23             United Kingdom       EN     4   \n",
       "16390  m2103      5     male   35                      India       EN     3   \n",
       "788    f0330      4   female   38                      India       TA     5   \n",
       "\n",
       "       confidence  \n",
       "16986    0.678301  \n",
       "16346    0.367634  \n",
       "14811    0.794224  \n",
       "17853    0.487990  \n",
       "7155     0.338817  \n",
       "...           ...  \n",
       "15707    0.818769  \n",
       "3466     0.988301  \n",
       "12280    0.686044  \n",
       "16390    0.397201  \n",
       "788      0.404087  \n",
       "\n",
       "[417 rows x 8 columns]"
      ]
     },
     "execution_count": 97,
     "metadata": {},
     "output_type": "execute_result"
    }
   ],
   "source": [
    "incorrect_pred = speaker_data_test[speaker_data_test['sound'] != speaker_data_test['pred']]\n",
    "correct_pred = speaker_data_test[speaker_data_test['sound'] == speaker_data_test['pred']]\n",
    "\n",
    "incorrect_pred"
   ]
  },
  {
   "cell_type": "code",
   "execution_count": 133,
   "metadata": {
    "execution": {
     "iopub.execute_input": "2022-11-14T07:24:04.648553Z",
     "iopub.status.busy": "2022-11-14T07:24:04.648162Z",
     "iopub.status.idle": "2022-11-14T07:24:04.653248Z",
     "shell.execute_reply": "2022-11-14T07:24:04.652151Z",
     "shell.execute_reply.started": "2022-11-14T07:24:04.648519Z"
    }
   },
   "outputs": [],
   "source": [
    "# convert to bar chart clumped by male/female/other on x_axis and with legend/color as correct, incorrect"
   ]
  },
  {
   "cell_type": "code",
   "execution_count": 95,
   "metadata": {
    "execution": {
     "iopub.execute_input": "2022-11-14T06:56:50.733652Z",
     "iopub.status.busy": "2022-11-14T06:56:50.733085Z",
     "iopub.status.idle": "2022-11-14T06:56:50.742773Z",
     "shell.execute_reply": "2022-11-14T06:56:50.741419Z",
     "shell.execute_reply.started": "2022-11-14T06:56:50.733609Z"
    }
   },
   "outputs": [
    {
     "data": {
      "text/plain": [
       " male      0.547967\n",
       " female    0.448221\n",
       " other     0.003812\n",
       "Name: sex, dtype: float64"
      ]
     },
     "execution_count": 95,
     "metadata": {},
     "output_type": "execute_result"
    }
   ],
   "source": [
    "speaker_data_test['sex'].value_counts(normalize = True)"
   ]
  },
  {
   "cell_type": "code",
   "execution_count": 98,
   "metadata": {
    "execution": {
     "iopub.execute_input": "2022-11-14T06:57:54.486141Z",
     "iopub.status.busy": "2022-11-14T06:57:54.485781Z",
     "iopub.status.idle": "2022-11-14T06:57:54.498974Z",
     "shell.execute_reply": "2022-11-14T06:57:54.497986Z",
     "shell.execute_reply.started": "2022-11-14T06:57:54.486111Z"
    }
   },
   "outputs": [
    {
     "data": {
      "text/plain": [
       " male      0.548517\n",
       " female    0.447455\n",
       " other     0.004028\n",
       "Name: sex, dtype: float64"
      ]
     },
     "execution_count": 98,
     "metadata": {},
     "output_type": "execute_result"
    }
   ],
   "source": [
    "correct_pred['sex'].value_counts(normalize = True)"
   ]
  },
  {
   "cell_type": "code",
   "execution_count": 96,
   "metadata": {
    "execution": {
     "iopub.execute_input": "2022-11-14T06:57:11.715674Z",
     "iopub.status.busy": "2022-11-14T06:57:11.715298Z",
     "iopub.status.idle": "2022-11-14T06:57:11.724991Z",
     "shell.execute_reply": "2022-11-14T06:57:11.723959Z",
     "shell.execute_reply.started": "2022-11-14T06:57:11.715642Z"
    }
   },
   "outputs": [
    {
     "data": {
      "text/plain": [
       " male      0.544365\n",
       " female    0.453237\n",
       " other     0.002398\n",
       "Name: sex, dtype: float64"
      ]
     },
     "execution_count": 96,
     "metadata": {},
     "output_type": "execute_result"
    }
   ],
   "source": [
    "incorrect_pred['sex'].value_counts(normalize = True)"
   ]
  },
  {
   "cell_type": "code",
   "execution_count": 102,
   "metadata": {
    "execution": {
     "iopub.execute_input": "2022-11-14T06:59:05.907168Z",
     "iopub.status.busy": "2022-11-14T06:59:05.906434Z",
     "iopub.status.idle": "2022-11-14T06:59:05.928629Z",
     "shell.execute_reply": "2022-11-14T06:59:05.927375Z",
     "shell.execute_reply.started": "2022-11-14T06:59:05.907133Z"
    }
   },
   "outputs": [
    {
     "data": {
      "text/html": [
       "<div>\n",
       "<style scoped>\n",
       "    .dataframe tbody tr th:only-of-type {\n",
       "        vertical-align: middle;\n",
       "    }\n",
       "\n",
       "    .dataframe tbody tr th {\n",
       "        vertical-align: top;\n",
       "    }\n",
       "\n",
       "    .dataframe thead th {\n",
       "        text-align: right;\n",
       "    }\n",
       "</style>\n",
       "<table border=\"1\" class=\"dataframe\">\n",
       "  <thead>\n",
       "    <tr style=\"text-align: right;\">\n",
       "      <th></th>\n",
       "      <th>id</th>\n",
       "      <th>sound</th>\n",
       "      <th>sex</th>\n",
       "      <th>age</th>\n",
       "      <th>country</th>\n",
       "      <th>language</th>\n",
       "      <th>pred</th>\n",
       "      <th>confidence</th>\n",
       "    </tr>\n",
       "  </thead>\n",
       "  <tbody>\n",
       "    <tr>\n",
       "      <th>4657</th>\n",
       "      <td>f1618</td>\n",
       "      <td>0</td>\n",
       "      <td>female</td>\n",
       "      <td>33</td>\n",
       "      <td>United States of America</td>\n",
       "      <td>EN</td>\n",
       "      <td>0</td>\n",
       "      <td>0.999961</td>\n",
       "    </tr>\n",
       "    <tr>\n",
       "      <th>20733</th>\n",
       "      <td>m3306</td>\n",
       "      <td>0</td>\n",
       "      <td>male</td>\n",
       "      <td>32</td>\n",
       "      <td>United States of America</td>\n",
       "      <td>EN</td>\n",
       "      <td>0</td>\n",
       "      <td>0.995873</td>\n",
       "    </tr>\n",
       "    <tr>\n",
       "      <th>16986</th>\n",
       "      <td>m2271</td>\n",
       "      <td>1</td>\n",
       "      <td>male</td>\n",
       "      <td>25</td>\n",
       "      <td>India</td>\n",
       "      <td>TA</td>\n",
       "      <td>2</td>\n",
       "      <td>0.678301</td>\n",
       "    </tr>\n",
       "    <tr>\n",
       "      <th>14919</th>\n",
       "      <td>m1678</td>\n",
       "      <td>4</td>\n",
       "      <td>male</td>\n",
       "      <td>20</td>\n",
       "      <td>Brazil</td>\n",
       "      <td>PT</td>\n",
       "      <td>4</td>\n",
       "      <td>0.998928</td>\n",
       "    </tr>\n",
       "    <tr>\n",
       "      <th>19525</th>\n",
       "      <td>m2954</td>\n",
       "      <td>4</td>\n",
       "      <td>male</td>\n",
       "      <td>23</td>\n",
       "      <td>Brazil</td>\n",
       "      <td>PT</td>\n",
       "      <td>4</td>\n",
       "      <td>0.903381</td>\n",
       "    </tr>\n",
       "    <tr>\n",
       "      <th>...</th>\n",
       "      <td>...</td>\n",
       "      <td>...</td>\n",
       "      <td>...</td>\n",
       "      <td>...</td>\n",
       "      <td>...</td>\n",
       "      <td>...</td>\n",
       "      <td>...</td>\n",
       "      <td>...</td>\n",
       "    </tr>\n",
       "    <tr>\n",
       "      <th>17859</th>\n",
       "      <td>m2509</td>\n",
       "      <td>0</td>\n",
       "      <td>male</td>\n",
       "      <td>27</td>\n",
       "      <td>India</td>\n",
       "      <td>EN</td>\n",
       "      <td>0</td>\n",
       "      <td>0.993554</td>\n",
       "    </tr>\n",
       "    <tr>\n",
       "      <th>15142</th>\n",
       "      <td>m1753</td>\n",
       "      <td>5</td>\n",
       "      <td>male</td>\n",
       "      <td>19</td>\n",
       "      <td>United States of America</td>\n",
       "      <td>EN</td>\n",
       "      <td>5</td>\n",
       "      <td>0.964370</td>\n",
       "    </tr>\n",
       "    <tr>\n",
       "      <th>11434</th>\n",
       "      <td>m0573</td>\n",
       "      <td>5</td>\n",
       "      <td>male</td>\n",
       "      <td>31</td>\n",
       "      <td>United States of America</td>\n",
       "      <td>EN</td>\n",
       "      <td>5</td>\n",
       "      <td>0.845415</td>\n",
       "    </tr>\n",
       "    <tr>\n",
       "      <th>788</th>\n",
       "      <td>f0330</td>\n",
       "      <td>4</td>\n",
       "      <td>female</td>\n",
       "      <td>38</td>\n",
       "      <td>India</td>\n",
       "      <td>TA</td>\n",
       "      <td>5</td>\n",
       "      <td>0.404087</td>\n",
       "    </tr>\n",
       "    <tr>\n",
       "      <th>3162</th>\n",
       "      <td>f1132</td>\n",
       "      <td>5</td>\n",
       "      <td>female</td>\n",
       "      <td>21</td>\n",
       "      <td>United States of America</td>\n",
       "      <td>EN</td>\n",
       "      <td>5</td>\n",
       "      <td>0.974519</td>\n",
       "    </tr>\n",
       "  </tbody>\n",
       "</table>\n",
       "<p>3148 rows × 8 columns</p>\n",
       "</div>"
      ],
      "text/plain": [
       "          id  sound      sex  age                    country language  pred  \\\n",
       "4657   f1618      0   female   33   United States of America       EN     0   \n",
       "20733  m3306      0     male   32   United States of America       EN     0   \n",
       "16986  m2271      1     male   25                      India       TA     2   \n",
       "14919  m1678      4     male   20                     Brazil       PT     4   \n",
       "19525  m2954      4     male   23                     Brazil       PT     4   \n",
       "...      ...    ...      ...  ...                        ...      ...   ...   \n",
       "17859  m2509      0     male   27                      India       EN     0   \n",
       "15142  m1753      5     male   19   United States of America       EN     5   \n",
       "11434  m0573      5     male   31   United States of America       EN     5   \n",
       "788    f0330      4   female   38                      India       TA     5   \n",
       "3162   f1132      5   female   21   United States of America       EN     5   \n",
       "\n",
       "       confidence  \n",
       "4657     0.999961  \n",
       "20733    0.995873  \n",
       "16986    0.678301  \n",
       "14919    0.998928  \n",
       "19525    0.903381  \n",
       "...           ...  \n",
       "17859    0.993554  \n",
       "15142    0.964370  \n",
       "11434    0.845415  \n",
       "788      0.404087  \n",
       "3162     0.974519  \n",
       "\n",
       "[3148 rows x 8 columns]"
      ]
     },
     "execution_count": 102,
     "metadata": {},
     "output_type": "execute_result"
    }
   ],
   "source": [
    "speaker_data_test"
   ]
  },
  {
   "cell_type": "code",
   "execution_count": null,
   "metadata": {},
   "outputs": [],
   "source": []
  },
  {
   "cell_type": "code",
   "execution_count": 124,
   "metadata": {
    "execution": {
     "iopub.execute_input": "2022-11-14T07:04:03.857399Z",
     "iopub.status.busy": "2022-11-14T07:04:03.857048Z",
     "iopub.status.idle": "2022-11-14T07:04:03.867284Z",
     "shell.execute_reply": "2022-11-14T07:04:03.866184Z",
     "shell.execute_reply.started": "2022-11-14T07:04:03.857362Z"
    }
   },
   "outputs": [
    {
     "data": {
      "text/plain": [
       " EN    0.67\n",
       " PT    0.08\n",
       " IT    0.06\n",
       " TA    0.04\n",
       " HI    0.03\n",
       "Name: language, dtype: float64"
      ]
     },
     "execution_count": 124,
     "metadata": {},
     "output_type": "execute_result"
    }
   ],
   "source": [
    "speaker_data_test['language'].value_counts(normalize = True).round(2).head(5)"
   ]
  },
  {
   "cell_type": "code",
   "execution_count": 131,
   "metadata": {
    "execution": {
     "iopub.execute_input": "2022-11-14T07:05:25.745788Z",
     "iopub.status.busy": "2022-11-14T07:05:25.745417Z",
     "iopub.status.idle": "2022-11-14T07:05:25.761158Z",
     "shell.execute_reply": "2022-11-14T07:05:25.759152Z",
     "shell.execute_reply.started": "2022-11-14T07:05:25.745752Z"
    }
   },
   "outputs": [
    {
     "data": {
      "text/plain": [
       " EN    0.69\n",
       " PT    0.08\n",
       " IT    0.06\n",
       " TA    0.03\n",
       " ES    0.02\n",
       " HI    0.02\n",
       " ML    0.02\n",
       " TE    0.01\n",
       " FR    0.01\n",
       " DE    0.00\n",
       "Name: language, dtype: float64"
      ]
     },
     "execution_count": 131,
     "metadata": {},
     "output_type": "execute_result"
    }
   ],
   "source": [
    "correct_pred['language'].value_counts(normalize = True).round(2).head(10)"
   ]
  },
  {
   "cell_type": "code",
   "execution_count": 130,
   "metadata": {
    "execution": {
     "iopub.execute_input": "2022-11-14T07:05:21.550436Z",
     "iopub.status.busy": "2022-11-14T07:05:21.550057Z",
     "iopub.status.idle": "2022-11-14T07:05:21.560650Z",
     "shell.execute_reply": "2022-11-14T07:05:21.559548Z",
     "shell.execute_reply.started": "2022-11-14T07:05:21.550404Z"
    }
   },
   "outputs": [
    {
     "data": {
      "text/plain": [
       " EN    0.59\n",
       " PT    0.09\n",
       " TA    0.07\n",
       " IT    0.06\n",
       " HI    0.06\n",
       "Name: language, dtype: float64"
      ]
     },
     "execution_count": 130,
     "metadata": {},
     "output_type": "execute_result"
    }
   ],
   "source": [
    "incorrect_pred['language'].value_counts(normalize = True).round(2).head(5)"
   ]
  },
  {
   "cell_type": "markdown",
   "metadata": {},
   "source": [
    "It does not appear that sex have much influence on whether or not the model performs well. It is hard to say if language has much impact. The language class is very imbalanced and the number of incorrect predictions on the test set is small (417 entries). English does makes up a notably smaller percentage of the incorrect predictions. It also appears that the languages Tamil (`TA`) and Hindi (`HI`) have more representation in the incorrect predictions set than the correct predictions set."
   ]
  },
  {
   "cell_type": "code",
   "execution_count": 151,
   "metadata": {
    "execution": {
     "iopub.execute_input": "2022-11-14T07:37:44.568120Z",
     "iopub.status.busy": "2022-11-14T07:37:44.567762Z",
     "iopub.status.idle": "2022-11-14T07:37:44.808489Z",
     "shell.execute_reply": "2022-11-14T07:37:44.807520Z",
     "shell.execute_reply.started": "2022-11-14T07:37:44.568092Z"
    }
   },
   "outputs": [
    {
     "data": {
      "image/png": "[encoded data removed]",
      "text/plain": [
       "<Figure size 432x288 with 1 Axes>"
      ]
     },
     "metadata": {
      "needs_background": "light"
     },
     "output_type": "display_data"
    }
   ],
   "source": [
    "plt.hist(correct_pred['confidence'], bins = 20);"
   ]
  },
  {
   "cell_type": "code",
   "execution_count": 174,
   "metadata": {
    "execution": {
     "iopub.execute_input": "2022-11-14T07:39:13.298050Z",
     "iopub.status.busy": "2022-11-14T07:39:13.297661Z",
     "iopub.status.idle": "2022-11-14T07:39:13.568850Z",
     "shell.execute_reply": "2022-11-14T07:39:13.567869Z",
     "shell.execute_reply.started": "2022-11-14T07:39:13.298020Z"
    }
   },
   "outputs": [
    {
     "data": {
      "image/png": "[encoded data removed]",
      "text/plain": [
       "<Figure size 432x288 with 1 Axes>"
      ]
     },
     "metadata": {
      "needs_background": "light"
     },
     "output_type": "display_data"
    }
   ],
   "source": [
    "plt.hist(incorrect_pred['confidence'], bins = 18);"
   ]
  },
  {
   "cell_type": "markdown",
   "metadata": {},
   "source": [
    "The histrogram of confidence levels for correct predictions is very left skewed. When the model gets the predictions correct, it seems to generally be very confident. On the other hand, the histogram of confidence levels for incorrect predictions appears fairly uniform. When the model makes an incorrect prediction, its confidence levels are all over the place."
   ]
  },
  {
   "cell_type": "code",
   "execution_count": 176,
   "metadata": {
    "execution": {
     "iopub.execute_input": "2022-11-14T07:43:47.055012Z",
     "iopub.status.busy": "2022-11-14T07:43:47.054660Z",
     "iopub.status.idle": "2022-11-14T07:43:47.071930Z",
     "shell.execute_reply": "2022-11-14T07:43:47.070730Z",
     "shell.execute_reply.started": "2022-11-14T07:43:47.054983Z"
    }
   },
   "outputs": [
    {
     "data": {
      "text/html": [
       "<div>\n",
       "<style scoped>\n",
       "    .dataframe tbody tr th:only-of-type {\n",
       "        vertical-align: middle;\n",
       "    }\n",
       "\n",
       "    .dataframe tbody tr th {\n",
       "        vertical-align: top;\n",
       "    }\n",
       "\n",
       "    .dataframe thead th {\n",
       "        text-align: right;\n",
       "    }\n",
       "</style>\n",
       "<table border=\"1\" class=\"dataframe\">\n",
       "  <thead>\n",
       "    <tr style=\"text-align: right;\">\n",
       "      <th></th>\n",
       "      <th>confidence</th>\n",
       "    </tr>\n",
       "    <tr>\n",
       "      <th>sound</th>\n",
       "      <th></th>\n",
       "    </tr>\n",
       "  </thead>\n",
       "  <tbody>\n",
       "    <tr>\n",
       "      <th>0</th>\n",
       "      <td>0.916048</td>\n",
       "    </tr>\n",
       "    <tr>\n",
       "      <th>1</th>\n",
       "      <td>0.900536</td>\n",
       "    </tr>\n",
       "    <tr>\n",
       "      <th>2</th>\n",
       "      <td>0.898440</td>\n",
       "    </tr>\n",
       "    <tr>\n",
       "      <th>3</th>\n",
       "      <td>0.894100</td>\n",
       "    </tr>\n",
       "    <tr>\n",
       "      <th>4</th>\n",
       "      <td>0.898593</td>\n",
       "    </tr>\n",
       "    <tr>\n",
       "      <th>5</th>\n",
       "      <td>0.831256</td>\n",
       "    </tr>\n",
       "  </tbody>\n",
       "</table>\n",
       "</div>"
      ],
      "text/plain": [
       "       confidence\n",
       "sound            \n",
       "0        0.916048\n",
       "1        0.900536\n",
       "2        0.898440\n",
       "3        0.894100\n",
       "4        0.898593\n",
       "5        0.831256"
      ]
     },
     "execution_count": 176,
     "metadata": {},
     "output_type": "execute_result"
    }
   ],
   "source": [
    "speaker_data_test.groupby('sound')[['confidence']].mean()"
   ]
  },
  {
   "cell_type": "code",
   "execution_count": 177,
   "metadata": {
    "execution": {
     "iopub.execute_input": "2022-11-14T07:44:07.783125Z",
     "iopub.status.busy": "2022-11-14T07:44:07.782388Z",
     "iopub.status.idle": "2022-11-14T07:44:07.796251Z",
     "shell.execute_reply": "2022-11-14T07:44:07.794895Z",
     "shell.execute_reply.started": "2022-11-14T07:44:07.783089Z"
    }
   },
   "outputs": [
    {
     "data": {
      "text/html": [
       "<div>\n",
       "<style scoped>\n",
       "    .dataframe tbody tr th:only-of-type {\n",
       "        vertical-align: middle;\n",
       "    }\n",
       "\n",
       "    .dataframe tbody tr th {\n",
       "        vertical-align: top;\n",
       "    }\n",
       "\n",
       "    .dataframe thead th {\n",
       "        text-align: right;\n",
       "    }\n",
       "</style>\n",
       "<table border=\"1\" class=\"dataframe\">\n",
       "  <thead>\n",
       "    <tr style=\"text-align: right;\">\n",
       "      <th></th>\n",
       "      <th>confidence</th>\n",
       "    </tr>\n",
       "    <tr>\n",
       "      <th>sound</th>\n",
       "      <th></th>\n",
       "    </tr>\n",
       "  </thead>\n",
       "  <tbody>\n",
       "    <tr>\n",
       "      <th>0</th>\n",
       "      <td>0.934041</td>\n",
       "    </tr>\n",
       "    <tr>\n",
       "      <th>1</th>\n",
       "      <td>0.947195</td>\n",
       "    </tr>\n",
       "    <tr>\n",
       "      <th>2</th>\n",
       "      <td>0.936751</td>\n",
       "    </tr>\n",
       "    <tr>\n",
       "      <th>3</th>\n",
       "      <td>0.938627</td>\n",
       "    </tr>\n",
       "    <tr>\n",
       "      <th>4</th>\n",
       "      <td>0.931229</td>\n",
       "    </tr>\n",
       "    <tr>\n",
       "      <th>5</th>\n",
       "      <td>0.876081</td>\n",
       "    </tr>\n",
       "  </tbody>\n",
       "</table>\n",
       "</div>"
      ],
      "text/plain": [
       "       confidence\n",
       "sound            \n",
       "0        0.934041\n",
       "1        0.947195\n",
       "2        0.936751\n",
       "3        0.938627\n",
       "4        0.931229\n",
       "5        0.876081"
      ]
     },
     "execution_count": 177,
     "metadata": {},
     "output_type": "execute_result"
    }
   ],
   "source": [
    "correct_pred.groupby('sound')[['confidence']].mean()"
   ]
  },
  {
   "cell_type": "code",
   "execution_count": 178,
   "metadata": {
    "execution": {
     "iopub.execute_input": "2022-11-14T07:44:15.036867Z",
     "iopub.status.busy": "2022-11-14T07:44:15.036483Z",
     "iopub.status.idle": "2022-11-14T07:44:15.051151Z",
     "shell.execute_reply": "2022-11-14T07:44:15.049947Z",
     "shell.execute_reply.started": "2022-11-14T07:44:15.036837Z"
    }
   },
   "outputs": [
    {
     "data": {
      "text/html": [
       "<div>\n",
       "<style scoped>\n",
       "    .dataframe tbody tr th:only-of-type {\n",
       "        vertical-align: middle;\n",
       "    }\n",
       "\n",
       "    .dataframe tbody tr th {\n",
       "        vertical-align: top;\n",
       "    }\n",
       "\n",
       "    .dataframe thead th {\n",
       "        text-align: right;\n",
       "    }\n",
       "</style>\n",
       "<table border=\"1\" class=\"dataframe\">\n",
       "  <thead>\n",
       "    <tr style=\"text-align: right;\">\n",
       "      <th></th>\n",
       "      <th>confidence</th>\n",
       "    </tr>\n",
       "    <tr>\n",
       "      <th>sound</th>\n",
       "      <th></th>\n",
       "    </tr>\n",
       "  </thead>\n",
       "  <tbody>\n",
       "    <tr>\n",
       "      <th>0</th>\n",
       "      <td>0.671642</td>\n",
       "    </tr>\n",
       "    <tr>\n",
       "      <th>1</th>\n",
       "      <td>0.545619</td>\n",
       "    </tr>\n",
       "    <tr>\n",
       "      <th>2</th>\n",
       "      <td>0.607027</td>\n",
       "    </tr>\n",
       "    <tr>\n",
       "      <th>3</th>\n",
       "      <td>0.650581</td>\n",
       "    </tr>\n",
       "    <tr>\n",
       "      <th>4</th>\n",
       "      <td>0.640827</td>\n",
       "    </tr>\n",
       "    <tr>\n",
       "      <th>5</th>\n",
       "      <td>0.678700</td>\n",
       "    </tr>\n",
       "  </tbody>\n",
       "</table>\n",
       "</div>"
      ],
      "text/plain": [
       "       confidence\n",
       "sound            \n",
       "0        0.671642\n",
       "1        0.545619\n",
       "2        0.607027\n",
       "3        0.650581\n",
       "4        0.640827\n",
       "5        0.678700"
      ]
     },
     "execution_count": 178,
     "metadata": {},
     "output_type": "execute_result"
    }
   ],
   "source": [
    "correct_pred.groupby('sound')[['confidence']].mean()\n",
    "incorrect_pred.groupby('sound')[['confidence']].mean()"
   ]
  },
  {
   "cell_type": "code",
   "execution_count": 179,
   "metadata": {
    "execution": {
     "iopub.execute_input": "2022-11-14T07:44:34.301047Z",
     "iopub.status.busy": "2022-11-14T07:44:34.300456Z",
     "iopub.status.idle": "2022-11-14T07:44:34.318952Z",
     "shell.execute_reply": "2022-11-14T07:44:34.317945Z",
     "shell.execute_reply.started": "2022-11-14T07:44:34.301004Z"
    }
   },
   "outputs": [
    {
     "data": {
      "text/html": [
       "<div>\n",
       "<style scoped>\n",
       "    .dataframe tbody tr th:only-of-type {\n",
       "        vertical-align: middle;\n",
       "    }\n",
       "\n",
       "    .dataframe tbody tr th {\n",
       "        vertical-align: top;\n",
       "    }\n",
       "\n",
       "    .dataframe thead th {\n",
       "        text-align: right;\n",
       "    }\n",
       "</style>\n",
       "<table border=\"1\" class=\"dataframe\">\n",
       "  <thead>\n",
       "    <tr style=\"text-align: right;\">\n",
       "      <th></th>\n",
       "      <th>confidence</th>\n",
       "    </tr>\n",
       "    <tr>\n",
       "      <th>sound</th>\n",
       "      <th></th>\n",
       "    </tr>\n",
       "  </thead>\n",
       "  <tbody>\n",
       "    <tr>\n",
       "      <th>0</th>\n",
       "      <td>0.656654</td>\n",
       "    </tr>\n",
       "    <tr>\n",
       "      <th>1</th>\n",
       "      <td>0.510961</td>\n",
       "    </tr>\n",
       "    <tr>\n",
       "      <th>2</th>\n",
       "      <td>0.536106</td>\n",
       "    </tr>\n",
       "    <tr>\n",
       "      <th>3</th>\n",
       "      <td>0.660046</td>\n",
       "    </tr>\n",
       "    <tr>\n",
       "      <th>4</th>\n",
       "      <td>0.659335</td>\n",
       "    </tr>\n",
       "    <tr>\n",
       "      <th>5</th>\n",
       "      <td>0.693387</td>\n",
       "    </tr>\n",
       "  </tbody>\n",
       "</table>\n",
       "</div>"
      ],
      "text/plain": [
       "       confidence\n",
       "sound            \n",
       "0        0.656654\n",
       "1        0.510961\n",
       "2        0.536106\n",
       "3        0.660046\n",
       "4        0.659335\n",
       "5        0.693387"
      ]
     },
     "execution_count": 179,
     "metadata": {},
     "output_type": "execute_result"
    }
   ],
   "source": [
    "incorrect_pred.groupby('sound')[['confidence']].median()"
   ]
  }
 ],
 "metadata": {
  "kernelspec": {
   "display_name": "Python 3 (ipykernel)",
   "language": "python",
   "name": "python3"
  },
  "language_info": {
   "codemirror_mode": {
    "name": "ipython",
    "version": 3
   },
   "file_extension": ".py",
   "mimetype": "text/x-python",
   "name": "python",
   "nbconvert_exporter": "python",
   "pygments_lexer": "ipython3",
   "version": "3.8.13"
  }
 },
 "nbformat": 4,
 "nbformat_minor": 4
}
